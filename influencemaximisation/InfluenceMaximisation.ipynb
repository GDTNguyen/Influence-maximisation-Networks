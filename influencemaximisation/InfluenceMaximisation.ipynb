{
 "cells": [
  {
   "cell_type": "markdown",
   "metadata": {},
   "source": [
    "# Influence Maximisation Problem with time and random delays\n",
    "\n",
    "This is the issue of maximising value in a netowork by selecting nodes that are most likely to yield the highest value. In this notebook we will implement some well studied models and extend them to account for time delays. We will design heuristic and greedy strategies to tackle the influence maximisation problem and analyse performance of the algorithms."
   ]
  },
  {
   "cell_type": "markdown",
   "metadata": {},
   "source": [
    "## Jargon: understanding vocabulary"
   ]
  },
  {
   "cell_type": "markdown",
   "metadata": {},
   "source": [
    "Here we put some vocabulary we might need in order to understand and tackle the problem.\n",
    "\n",
    "* **States** is how we represent the node, 0 is inactive, -1 latent active, and 1 is active.\n",
    "* **Propogation value** PV(S) is the expected value of activated nodes in a seed set, S.\n",
    "* **Seed set** is the set of nodes that contain the solution.\n",
    "* **k seeds** is the number of initial set of nodes before starting influence maximisation.\n",
    "* **Freashness function** is a function to determine the value of a node with respect to the time till activation.\n",
    "* **Freashness value** is the actual value of the node.\n"
   ]
  },
  {
   "cell_type": "markdown",
   "metadata": {},
   "source": [
    "## Generate a graph\n",
    "\n",
    "A model where the sum of influence will determine whether a node becomes active. The influence must exceed the threshold of a node. Each edge and node has a random value assigned to it between 0 and 1 when a new instance is generated."
   ]
  },
  {
   "cell_type": "code",
   "execution_count": 1,
   "metadata": {},
   "outputs": [],
   "source": [
    "import snap\n",
    "import networkx as nx\n",
    "%matplotlib inline\n",
    "import matplotlib.pyplot as plt\n",
    "import random\n",
    "import time\n",
    "import itertools\n",
    "import urllib\n",
    "import csv\n",
    "import functools\n",
    "import numpy as np\n",
    "import heapq as h\n",
    "import re\n",
    "from statistics import mean, stdev"
   ]
  },
  {
   "cell_type": "markdown",
   "metadata": {},
   "source": [
    "gen_graph uses seeds. A seed is a feature of python that allows us to generate random values associated to nodes and edges when we need them. If we want to reference a graph generated in the past we just input the seed that was used."
   ]
  },
  {
   "cell_type": "code",
   "execution_count": 2,
   "metadata": {},
   "outputs": [],
   "source": [
    "def gen_graph(size, seed=42):\n",
    "    \"\"\"generates a network, each value assigned to the node and edge is random float between 0 and 1\"\"\"\n",
    "    random.seed(seed*size)\n",
    "    G = snap.GenRndGnm(snap.PNEANet, size, random.randrange(size*2, (size*(size - 1)/2)/2))\n",
    "    \n",
    "    # define float and str attributes on nodes\n",
    "    G.AddFltAttrN(\"NValFlt\", 0.0)\n",
    "    G.AddStrAttrN(\"NValStr\", \"0\")\n",
    "\n",
    "    # define an int attribute on edges\n",
    "    G.AddFltAttrE(\"EValFlt\", 0)\n",
    "\n",
    "    # add attribute values, node ID for nodes, edge ID for edges\n",
    "    for NI in G.Nodes():\n",
    "        nid = NI.GetId()\n",
    "        val = nid\n",
    "        G.AddFltAttrDatN(nid, random.random(), \"NValFlt\")\n",
    "        G.AddStrAttrDatN(nid, str(val), \"NValStr\")\n",
    "        G.AddIntAttrDatN(nid, 0, \"State\")\n",
    "\n",
    "        for nid1 in NI.GetOutEdges():\n",
    "            eid = G.GetEId(nid,nid1)\n",
    "            val = eid\n",
    "            G.AddFltAttrDatE(eid, random.random(), \"EValFlt\")\n",
    "\n",
    "    # print out attribute values\n",
    "#     for n in G.Nodes():\n",
    "#         nid = n.GetId()\n",
    "#         fval = G.GetFltAttrDatN(nid, \"NValFlt\")\n",
    "#         sval = G.GetStrAttrDatN(nid, \"NValStr\")\n",
    "        \n",
    "#         print(\"node %d, NValFlt %.2f, NValStr %s\" % (nid, fval, sval))\n",
    "\n",
    "#         for nid2 in n.GetOutEdges():\n",
    "#             eid = G.GetEId(nid, nid2)\n",
    "#             val1 = G.GetFltAttrDatE(eid, \"EValFlt\")\n",
    "#             print(\"edge %d (%d,%d), EValFlt %f\" % (eid, nid, nid2, val1))\n",
    "            \n",
    "    return G"
   ]
  },
  {
   "cell_type": "code",
   "execution_count": 3,
   "metadata": {},
   "outputs": [],
   "source": [
    "def node_states(g, attr, size):\n",
    "    \"\"\"A method iterating through the network using an iterator to check the states of each node.\"\"\"\n",
    "    iterator = g.BegNI()\n",
    "    print(\"NId %d has the following state %d\" % (iterator.GetId() ,g.GetIntAttrDatN(iterator.GetId(), attr)))\n",
    "    for i in range(0, size):\n",
    "        temp = iterator.Next()\n",
    "        if temp != g.EndNI():\n",
    "            NId = temp.GetId()\n",
    "            print(\"NId %d has the following state %d\" % (NId ,g.GetIntAttrDatN(NId, attr)))\n",
    "        else:\n",
    "            break\n",
    "        "
   ]
  },
  {
   "cell_type": "code",
   "execution_count": null,
   "metadata": {},
   "outputs": [],
   "source": [
    "graph1 = gen_graph(10, 14)\n",
    "node_states(graph1, \"State\", graph1.GetNodes())"
   ]
  },
  {
   "cell_type": "markdown",
   "metadata": {},
   "source": [
    "## Linear Threshold\n",
    "\n",
    "This is the case of where the ff(t) = 1. The freshness function can be any positive decreasing function for example, exponential, polynomial or piecewise linear function. fval(v)=ff(v.acttime) the value of a node is calculated by input of the activation time in the freshness function."
   ]
  },
  {
   "cell_type": "code",
   "execution_count": 4,
   "metadata": {},
   "outputs": [],
   "source": [
    "def edit_nodestate(graph, NId, attr, val):\n",
    "    \"\"\"changes the state of a specific node in the network\"\"\"\n",
    "    graph.DelAttrDatN(NId, attr)\n",
    "    graph.AddIntAttrDatN(NId, val, attr)\n",
    "    \n",
    "    return graph"
   ]
  },
  {
   "cell_type": "code",
   "execution_count": 5,
   "metadata": {},
   "outputs": [],
   "source": [
    "def lt_prop(g, k):\n",
    "    \"\"\"simple propogation in a linear threshold way with k = 1 and ff(t) = 1\"\"\"\n",
    "    s = list()\n",
    "    \n",
    "    #check to see if propogation already carried out\n",
    "    for n in g.Nodes():\n",
    "        if g.GetIntAttrDatN(n.GetId(), \"State\") == 1:\n",
    "            return print(\"Influence propogation has been carried out, please re-generate graph. \\n\")\n",
    "    \n",
    "    # select k random nodes\n",
    "    for i in range(0,k):\n",
    "        initial = g.GetRndNId()\n",
    "        while initial in s:\n",
    "            initial = g.GetRndNId()\n",
    "        g = edit_nodestate(g, initial, \"State\", 1)\n",
    "        s.append(initial)\n",
    "    \n",
    "    # adds nodes to s that exceed thresholds in lt\n",
    "    sizeS = len(s)\n",
    "    while True:\n",
    "        for n in g.Nodes():\n",
    "            nid = n.GetId()\n",
    "            if g.GetIntAttrDatN(nid, \"State\") == 0:\n",
    "                theta = g.GetFltAttrDatN(nid, \"NValFlt\")\n",
    "                influence = 0\n",
    "                for nid2 in n.GetOutEdges():\n",
    "                    if g.GetIntAttrDatN(nid2, \"State\") != 0:\n",
    "                        eid = g.GetEId(nid, nid2)\n",
    "                        influence += g.GetFltAttrDatE(eid, \"EValFlt\")\n",
    "\n",
    "                if influence >= theta:\n",
    "                    edit_nodestate(g, nid, \"State\", 1)\n",
    "                    s.append(nid)\n",
    "\n",
    "        # if no further changes to number of nodes close\n",
    "        if sizeS != len(s) and len(s) <= g.GetNodes():\n",
    "            sizeS = len(s)\n",
    "        else:\n",
    "            break\n",
    "    \n",
    "    # check the proportion of nodes that are activated\n",
    "    print(\"Proportion of nodes influenced %0.0f%% \\n\" % ((sizeS/g.GetNodes())*100))"
   ]
  },
  {
   "cell_type": "code",
   "execution_count": null,
   "metadata": {},
   "outputs": [],
   "source": [
    "graph2 = gen_graph(100, 10)"
   ]
  },
  {
   "cell_type": "code",
   "execution_count": null,
   "metadata": {},
   "outputs": [],
   "source": [
    "lt_prop(graph2, 1)\n",
    "node_states(graph2, \"State\", graph2.GetNodes())"
   ]
  },
  {
   "cell_type": "markdown",
   "metadata": {},
   "source": [
    "## Independent Cascade"
   ]
  },
  {
   "cell_type": "code",
   "execution_count": 6,
   "metadata": {},
   "outputs": [],
   "source": [
    "def ic_prop(g, k):\n",
    "    \"\"\"simple propogation in an independent casecade way with k = 1 and ff(t) = 1\"\"\"\n",
    "    s = list()\n",
    "    \n",
    "    #check to see if propogation already carried out\n",
    "    for n in g.Nodes():\n",
    "        if g.GetIntAttrDatN(n.GetId(), \"State\") == 1:\n",
    "            return print(\"Influence propogation has been carried out, please re-generate graph. \\n\")\n",
    "        \n",
    "    # select k random nodes\n",
    "    for i in range(0,k):\n",
    "        initial = g.GetRndNId()\n",
    "        while initial in s:\n",
    "            initial = g.GetRndNId()\n",
    "        g = edit_nodestate(g, initial, \"State\", 1)\n",
    "        s.append(initial)\n",
    "    \n",
    "    # start propogation, add a value to check if the node has tried to activate its neighbours(independent)\n",
    "    sizeS = len(s)\n",
    "    while True:\n",
    "        for n in g.Nodes():\n",
    "            nid = n.GetId()\n",
    "            if g.GetIntAttrDatN(nid, \"State\") == 1:\n",
    "                for nid2 in n.GetOutEdges():\n",
    "                    eid = g.GetEId(nid, nid2)\n",
    "                    theta = g.GetFltAttrDatN(nid2, \"NValFlt\")\n",
    "                    if g.GetFltAttrDatE(eid, \"EValFlt\") >= theta and nid2 not in s:\n",
    "                        edit_nodestate(g, nid2, \"State\", 1)\n",
    "                        s.append(nid2)\n",
    "        \n",
    "        if sizeS != len(s) and len(s) <= g.GetNodes():\n",
    "            sizeS = len(s)\n",
    "        else:\n",
    "            break\n",
    "    \n",
    "    # check the proportion of nodes that are activated\n",
    "    print(\"Proportion of nodes influenced %0.0f%% \\n\" % ((sizeS/g.GetNodes())*100))                 "
   ]
  },
  {
   "cell_type": "code",
   "execution_count": null,
   "metadata": {},
   "outputs": [],
   "source": [
    "graph3 = gen_graph(200, 12)"
   ]
  },
  {
   "cell_type": "code",
   "execution_count": null,
   "metadata": {},
   "outputs": [],
   "source": [
    "ic_prop(graph3, 1)\n",
    "node_states(graph3, \"State\", graph3.GetNodes())"
   ]
  },
  {
   "cell_type": "markdown",
   "metadata": {},
   "source": [
    "## Time sensitive influence maximisation\n",
    "\n",
    "We need to incorporate more information into the network in order to account for time. Firstly, each node will have three states, for 0 for inactive, 1 for latent , and 2 for active state. Once a node has been triggered to be active it goes into a latent active state, and will activate in (t+d) steps."
   ]
  },
  {
   "cell_type": "code",
   "execution_count": 7,
   "metadata": {},
   "outputs": [],
   "source": [
    "def gen_ts_graph(size, seed=42, pr=1):\n",
    "    \"\"\"creates a network with time delay on edges, and the capability to add three states.\"\"\"\n",
    "    random.seed(seed*size)\n",
    "    G = snap.GenRndGnm(snap.PNEANet, size, random.randrange(size*2, (size*(size - 1)/4)))\n",
    "    \n",
    "    # define float and str attributes on nodes\n",
    "    G.AddFltAttrN(\"NValFlt\", 0.0)\n",
    "    G.AddStrAttrN(\"NValStr\", \"0\")\n",
    "    \n",
    "    # define an flt attribute on edges\n",
    "    G.AddFltAttrE(\"EValFlt\", 0)\n",
    "\n",
    "    # add attribute values, node ID for nodes, edge ID for edges\n",
    "    for NI in G.Nodes():\n",
    "        nid = NI.GetId()\n",
    "        val = nid\n",
    "        G.AddFltAttrDatN(nid, random.random(), \"NValFlt\")\n",
    "        G.AddStrAttrDatN(nid, str(val), \"NValStr\")\n",
    "        G.AddIntAttrDatN(nid, 0, \"State\")\n",
    "        G.AddIntAttrDatN(nid, 0, \"activationTime\")\n",
    "        G.AddIntAttrDatN(nid, random.randrange(5, 30), \"delay\")\n",
    "\n",
    "        for nid1 in NI.GetOutEdges():\n",
    "            eid = G.GetEId(nid,nid1)\n",
    "            val = eid\n",
    "            G.AddFltAttrDatE(eid, random.random(), \"EValFlt\")\n",
    "\n",
    "    if pr:\n",
    "        print(\"Graph successfully generated! \\n\")\n",
    "            \n",
    "    return G"
   ]
  },
  {
   "cell_type": "code",
   "execution_count": 24,
   "metadata": {},
   "outputs": [
    {
     "name": "stderr",
     "output_type": "stream",
     "text": [
      "\n",
      "KeyboardInterrupt\n",
      "\n"
     ]
    }
   ],
   "source": [
    "graph4 = gen_ts_graph(8000, 20)"
   ]
  },
  {
   "cell_type": "markdown",
   "metadata": {},
   "source": [
    "## Delayed Linear Threshold"
   ]
  },
  {
   "cell_type": "markdown",
   "metadata": {},
   "source": [
    "The solution to the influence maximisation problem will be deterministic for the Linear threshold model. If we start at the same initial node it will give us the same solution each time. We can do a greedy or approximate approach to solve the problem for linear threshold. In the greedy approach we need to evaluate the value of a node when we add it to the solution, we determine the value using the freshness function.\n",
    "\n",
    "In the greedy algorithm, we find k initial nodes. Once we have k nodes in our set, we start propogation; propogation ends if there are no more nodes in the latent activate state and the set of nodes activated in the **current step** is empty. If the propogation value is 0 at step t then we do not need to continue propogation. \n",
    "\n",
    "\n"
   ]
  },
  {
   "cell_type": "code",
   "execution_count": 8,
   "metadata": {},
   "outputs": [],
   "source": [
    "def exponential(x):\n",
    "    if x >= 0:\n",
    "        return (np.exp(1)**-(x*0.5))\n",
    "    else:\n",
    "        return print(\"Enter a value greater than or equal to 0\")\n",
    "\n",
    "def polynomial(x):\n",
    "    if x >= 1:\n",
    "        return 1/x\n",
    "    else:\n",
    "        return print(\"Enter a value greater than or equal to 1\")\n",
    "    \n",
    "def piecewiselinear(x):\n",
    "    if x >= 5 and x <= 30:\n",
    "        return -x + 30\n",
    "    elif x > 30 and x <= 40:\n",
    "        return -0.5 * x + 20\n",
    "    else:\n",
    "        return print(\"Enter a value between 5 and 30\")"
   ]
  },
  {
   "cell_type": "code",
   "execution_count": 22,
   "metadata": {
    "collapsed": true,
    "jupyter": {
     "outputs_hidden": true
    }
   },
   "outputs": [
    {
     "name": "stdout",
     "output_type": "stream",
     "text": [
      "1\n",
      "2\n",
      "3\n",
      "4\n",
      "5\n",
      "6\n",
      "7\n",
      "8\n",
      "9\n",
      "10\n",
      "11\n",
      "12\n",
      "13\n",
      "14\n",
      "15\n",
      "16\n",
      "17\n",
      "18\n",
      "19\n",
      "20\n",
      "21\n",
      "22\n",
      "23\n",
      "24\n",
      "25\n",
      "26\n",
      "27\n",
      "28\n",
      "29\n",
      "30\n",
      "31\n",
      "32\n",
      "33\n",
      "34\n",
      "35\n",
      "36\n",
      "37\n",
      "38\n",
      "39\n",
      "40\n",
      "41\n",
      "42\n",
      "43\n",
      "44\n",
      "45\n",
      "46\n",
      "47\n",
      "48\n",
      "49\n",
      "[(0, 0, 1719), (6, 1, 878), (6, 1, 1386), (6, 1, 1386), (7, 1, 1842), (10, 1, 168), (10, 1, 1036), (12, 1, 287), (12, 7, 1386), (12, 7, 1386), (13, 7, 1889), (14, 8, 131), (14, 8, 1348), (14, 8, 1842), (14, 8, 1889), (15, 1, 580), (15, 8, 678), (15, 9, 131), (15, 9, 1348), (15, 9, 1842), (15, 9, 1889), (16, 1, 882), (16, 1, 967), (16, 7, 168), (16, 7, 1036), (16, 9, 678), (16, 10, 131), (16, 10, 958), (16, 10, 1348), (16, 10, 1889), (17, 7, 565), (17, 7, 673), (17, 7, 767), (17, 7, 885), (17, 8, 168), (17, 8, 224), (17, 8, 1036), (17, 8, 1439), (17, 8, 1439), (17, 10, 678), (17, 11, 131), (17, 11, 958), (17, 11, 1348), (17, 11, 1889), (18, 1, 365), (18, 7, 287), (18, 8, 565), (18, 8, 673), (18, 8, 767), (18, 8, 885)]\n"
     ]
    }
   ],
   "source": [
    "import time\n",
    "\n",
    "def im_g_lt(g, k, seed=42):\n",
    "    # (activation time, latent activation, {node id, threshold})\n",
    "    t0 = time.time()\n",
    "    random.seed(seed*k)\n",
    "    \n",
    "    #check to see if k is larger than g\n",
    "    if k >= g.GetNodes():\n",
    "        return print(\"Pick a k value less than %d\" % (g.GetNodes()))\n",
    "    \n",
    "    # nodes in latent active state 'aCurr' and nodes activated 'aT'  \n",
    "    aCurr = []\n",
    "    aT = []\n",
    "    h.heapify(aCurr)\n",
    "    h.heapify(aT)\n",
    "    \n",
    "    # select 1 initial node\n",
    "    initial = random.randrange(0, g.GetNodes())\n",
    "    h.heappush(aT, (0, 0, initial))\n",
    "        \n",
    "    # Select k nodes\n",
    "    timeStep = 0\n",
    "    candidates = []\n",
    "    h.heapify(candidates)\n",
    "    \n",
    "    for i in range(0, k - 1):\n",
    "        # put things in latent active state: BFS\n",
    "        queue = []\n",
    "        queue.append(aT[0])\n",
    "        lockTime = False\n",
    "        \n",
    "        while aCurr or i == 0:\n",
    "            timeStep += 1\n",
    "            \n",
    "            while queue:\n",
    "                if lockTime:\n",
    "                    break\n",
    "                \n",
    "                str1 = ''.join(str(e) for e in aCurr)\n",
    "                str2 = ''.join(str(e) for e in aT)\n",
    "                v = queue.pop()\n",
    "                node = g.GetNI(v[2])\n",
    "                for nid2 in node.GetOutEdges():\n",
    "                    if re.findall(\"\\(\\d, \\d, \" + str(nid2) + \"\\)\", str2):\n",
    "                        queue.append((g.GetIntAttrDatN(nid2, \"delay\") + timeStep ,timeStep ,nid2))\n",
    "                    elif not re.findall(\"\\(\\d, \\d, \" + str(nid2) + \"\\)\", str1):\n",
    "                        #nid2 will need to be checked if it exceeds the threshold\n",
    "                        threshold = g.GetFltAttrDatN(nid2, \"NValFlt\")\n",
    "                        influence = 0             \n",
    "                        for nid3 in g.GetNI(nid2).GetOutEdges():\n",
    "                            eid = g.GetEId(nid2, nid3)\n",
    "                            if re.findall(\"\\(\\d, \\d, \" + str(nid3) + \"\\)\", str2):\n",
    "                                influence += g.GetFltAttrDatE(eid, \"EValFlt\")\n",
    "                                if influence >= threshold:\n",
    "                                    h.heappush(aCurr, (g.GetIntAttrDatN(nid2, \"delay\") + timeStep, timeStep, nid2))\n",
    "                                    break\n",
    "                lockTime = True\n",
    "            \n",
    "            # get candidates that have activated from latent state\n",
    "            if aCurr and aCurr[0][0] <= timeStep:\n",
    "                while True:\n",
    "                    if aCurr and aCurr[0][0] <= timeStep:\n",
    "                        tempVar = h.heappop(aCurr)\n",
    "                        h.heappush(candidates, tempVar)\n",
    "                        lockTime = False\n",
    "                    else:\n",
    "                        break\n",
    "                break\n",
    "            else:\n",
    "                if candidates:\n",
    "                    break\n",
    "                    \n",
    "        # the largest pv will have the smallest activation time\n",
    "        if candidates:\n",
    "            node = h.heappop(candidates)\n",
    "            h.heappush(aT, node)\n",
    "    t1 = time.time()\n",
    "    print(t1-t0)\n",
    "    return aT\n",
    "            \n",
    "print(im_g_lt(graph4, 50, 11))"
   ]
  },
  {
   "cell_type": "markdown",
   "metadata": {},
   "source": [
    "prop_lt is a method that activates the initial set of nodes and propogates influence; the freshness function is returned after propogating has completed."
   ]
  },
  {
   "cell_type": "code",
   "execution_count": null,
   "metadata": {},
   "outputs": [],
   "source": [
    "def prop_lt(g, initialSet):\n",
    "    \n",
    "    #activate the initial nodes\n",
    "    for key, value in initialNodes.items():\n",
    "        nid = value[0]\n",
    "        edit_nodestate(g, nid, \"State\", 2)\n",
    "    \n",
    "    # start propogation again with the set of nodes activated\n",
    "    pV = 0\n",
    "    latentCounter = 0\n",
    "    activatedNode = False\n",
    "    timeStep = 0\n",
    "    \n",
    "    while latentCounter > 0 or not activatedNode: \n",
    "        timeStep += 1\n",
    "        activatedNode = True\n",
    "        \n",
    "        for n in g.Nodes():\n",
    "            nid = n.GetId()\n",
    "            # just carrying out propogation without picking best node\n",
    "            if g.GetIntAttrDatN(nid, \"State\") == 0:\n",
    "                theta = g.GetFltAttrDatN(nid, \"NValFlt\")\n",
    "                influence = 0\n",
    "                for nid2 in n.GetOutEdges():\n",
    "                    if g.GetIntAttrDatN(nid2, \"State\") == 2:\n",
    "                        eid = g.GetEId(nid, nid2)\n",
    "                        influence += g.GetFltAttrDatE(eid, \"EValFlt\")  \n",
    "                    if influence >= theta:\n",
    "                        edit_nodestate(g, nid, \"State\", 1)\n",
    "                        edit_nodestate(g, nid, \"activationTime\", timeStep)\n",
    "                        # tracking nodes                   \n",
    "                        latentCounter += 1\n",
    "                        break\n",
    "            elif g.GetIntAttrDatN(nid, \"State\") == 1:\n",
    "                activationTime = g.GetIntAttrDatN(nid, \"activationTime\")\n",
    "                delay = g.GetIntAttrDatN(nid, \"delay\")\n",
    "                if activationTime + delay  == timeStep:\n",
    "                    edit_nodestate(g, nid, \"State\", 2)\n",
    "                    \n",
    "                    #tracking nodes\n",
    "                    latentCounter -= 1\n",
    "                    activatedNode = False\n",
    "                    \n",
    "                    # calculate the total value of solution\n",
    "                    freshVal = exponential(activationTime + delay)\n",
    "                    pV += freshVal\n",
    "            \n",
    "    print(\"Freshness value %f\" % (pV))"
   ]
  },
  {
   "cell_type": "code",
   "execution_count": null,
   "metadata": {},
   "outputs": [],
   "source": [
    "graph5 = gen_ts_graph(1000, 20)"
   ]
  },
  {
   "cell_type": "code",
   "execution_count": null,
   "metadata": {},
   "outputs": [],
   "source": [
    "kNodes = 0\n",
    "for i in range(0, 4):\n",
    "    initialNodes = im_g_lt(graph5, 5 + kNodes, 3)\n",
    "    prop_lt(graph5, initialNodes)\n",
    "    print(\"IM with k = %d nodes \\n\" % (kNodes + 5))\n",
    "    print(\"--------------------\")\n",
    "    kNodes += 5"
   ]
  },
  {
   "cell_type": "markdown",
   "metadata": {},
   "source": [
    "Freshness functions: exponential, polynomial or piecewise linear."
   ]
  },
  {
   "cell_type": "markdown",
   "metadata": {},
   "source": [
    "In the approximate algorithms we look at which nodes to pick that will give use the best solution. Whereas in the greedy it does not matter, however on average the hill climbing strategy is 63% better. For example, if we select nodes with the highest degree, we will always look to add nodes with the highest degree."
   ]
  },
  {
   "cell_type": "code",
   "execution_count": null,
   "metadata": {},
   "outputs": [],
   "source": [
    "def im_a_lt(g, k)"
   ]
  },
  {
   "cell_type": "markdown",
   "metadata": {},
   "source": [
    "## Delayed Independend Cascade"
   ]
  },
  {
   "cell_type": "code",
   "execution_count": null,
   "metadata": {},
   "outputs": [],
   "source": []
  }
 ],
 "metadata": {
  "kernelspec": {
   "display_name": "Python 3",
   "language": "python",
   "name": "python3"
  },
  "language_info": {
   "codemirror_mode": {
    "name": "ipython",
    "version": 3
   },
   "file_extension": ".py",
   "mimetype": "text/x-python",
   "name": "python",
   "nbconvert_exporter": "python",
   "pygments_lexer": "ipython3",
   "version": "3.7.0"
  }
 },
 "nbformat": 4,
 "nbformat_minor": 4
}
