{
 "cells": [
  {
   "cell_type": "markdown",
   "metadata": {},
   "source": [
    "# Influence Maximisation Problem with time and random delays\n",
    "\n",
    "This is the issue of maximising value in a netowork by selecting nodes that are most likely to yield the highest value. In this notebook we will implement some well studied models and extend them to account for time delays. We will design heuristic and greedy strategies to tackle the influence maximisation problem and analyse performance of the algorithms."
   ]
  },
  {
   "cell_type": "markdown",
   "metadata": {},
   "source": [
    "## Jargon: understanding vocabulary"
   ]
  },
  {
   "cell_type": "markdown",
   "metadata": {},
   "source": [
    "Here we put some vocabulary we might need in order to understand and tackle the problem.\n",
    "\n",
    "* **States** is how we represent the node, 0 is inactive, -1 latent active, and 1 is active.\n",
    "* **Propogation value** PV(S) is the expected value of activated nodes in a seed set, S.\n",
    "* **Seed set** is the set of nodes that contain the solution.\n",
    "* **k seeds** is the number of initial set of nodes before starting influence maximisation.\n",
    "* **Freashness function** is a function to determine the value of a node with respect to the time till activation.\n",
    "* **Freashness value** is the actual value of the node.\n"
   ]
  },
  {
   "cell_type": "code",
   "execution_count": 1,
   "metadata": {},
   "outputs": [],
   "source": [
    "# Import packages\n",
    "import matplotlib.pyplot as plt\n",
    "from random import uniform, seed\n",
    "import numpy as np\n",
    "import time\n",
    "import snap\n",
    "import networkx as nx\n",
    "import random\n",
    "import itertools\n",
    "import urllib\n",
    "import csv\n",
    "import functools\n",
    "import heapq as h\n",
    "import re\n",
    "import operator\n",
    "from math import floor\n",
    "from statistics import mean, stdev"
   ]
  },
  {
   "cell_type": "markdown",
   "metadata": {},
   "source": [
    "## Generate a graph"
   ]
  },
  {
   "cell_type": "markdown",
   "metadata": {},
   "source": [
    "gen_ts_graph uses seeds that allows us to generate random values consistently. If we want to reference a graph generated in the past we just input the seed that was used. Any size graph can be created simply by giving the number of nodes."
   ]
  },
  {
   "cell_type": "code",
   "execution_count": 2,
   "metadata": {},
   "outputs": [],
   "source": [
    "def gen_ts_graph(size, seed=1000, pr=1):\n",
    "    \"\"\"creates a network with time delay on edges, and the capability to add three states.\"\"\"\n",
    "    random.seed(seed*size)\n",
    "    print(random.randrange(size*3, round(size*(size - 1)/150, 0)))\n",
    "    G = snap.GenRndGnm(snap.PNEANet, size, random.randrange(size*3, round(size*(size - 1)/150, 0)))\n",
    "            \n",
    "    if pr:\n",
    "        print(\"Graph successfully generated! \\n\")\n",
    "            \n",
    "    return G"
   ]
  },
  {
   "cell_type": "code",
   "execution_count": 18,
   "metadata": {},
   "outputs": [
    {
     "name": "stdout",
     "output_type": "stream",
     "text": [
      "21322\n",
      "Graph successfully generated! \n",
      "\n"
     ]
    }
   ],
   "source": [
    "graph1 = gen_ts_graph(2500, 5)"
   ]
  },
  {
   "cell_type": "markdown",
   "metadata": {},
   "source": [
    "The freshness functions can be any positive decreasing function for example, exponential, polynomial or piecewise linear function. fval(v)=ff(v.acttime) the value of a node is calculated by input of the activation time in the freshness function."
   ]
  },
  {
   "cell_type": "code",
   "execution_count": 4,
   "metadata": {},
   "outputs": [],
   "source": [
    "def exponential(x):\n",
    "    if x >= 0:\n",
    "        return (np.exp(1)**(x*-0.2))\n",
    "    else:\n",
    "        return print(\"Enter a value greater than or equal to 0\")\n",
    "\n",
    "def polynomialFreeDecay(x):\n",
    "    if x >= 0:\n",
    "        return (-0.001*x) + 100\n",
    "    else:\n",
    "        return print(\"Enter a value greater than or equal to 0\")\n",
    "    \n",
    "def piecewiselinear(x):\n",
    "    if x >= 0 and x <= 112:\n",
    "        return (-x + 200)\n",
    "    elif x > 112 and x <= 1000:\n",
    "        return ((-0.1*x) + 100)\n",
    "    else:\n",
    "        return 0"
   ]
  },
  {
   "cell_type": "markdown",
   "metadata": {},
   "source": [
    "## Time Sensitive Independent Cascade"
   ]
  },
  {
   "cell_type": "markdown",
   "metadata": {},
   "source": [
    "Each node has one chance to activate its neighbor, if its probability is greater than the neighbor' threshold then the neighbor becomes activated. This function returns a propogation value for a seed set that is greater than 0. And in this model it takes a probability p, such that each node has the activation chance p. "
   ]
  },
  {
   "cell_type": "code",
   "execution_count": 5,
   "metadata": {},
   "outputs": [],
   "source": [
    "def ic(g, s, p=0.5, mc=100):\n",
    "    \"\"\" \n",
    "    input: g - graph, s - seed set, mc - number of montecarlo simulations, p - the activaiton probability\n",
    "    output: propogation value\n",
    "    \"\"\"\n",
    "\n",
    "    #result of mc simulations\n",
    "    pvS = []\n",
    "    \n",
    "    for i in range(mc):\n",
    "        #propogate under ic style\n",
    "        aCurr, allActive, latentA, latentDict, pv = s.copy(), s.copy(), [], {}, 0\n",
    "        count = 0\n",
    "        \n",
    "        while aCurr or latentA:\n",
    "            \n",
    "            #neighbors of the nodes that activate\n",
    "            candidates = []\n",
    "            for n in aCurr:\n",
    "                \n",
    "                if n == None:\n",
    "                    continue\n",
    "                    \n",
    "                #thresholds = list()\n",
    "                neighbors = list()\n",
    "                node = g.GetNI(int(n))\n",
    "                \n",
    "                for neighbor in node.GetOutEdges():\n",
    "                    #thresholds.append(g.GetFltAttrDatN(neighbor, \"threshold\"))\n",
    "                    neighbors.append(neighbor)\n",
    "                \n",
    "                np.random.seed(i)\n",
    "                activation = np.random.uniform(0,1, node.GetOutDeg()) < p\n",
    "                candidates += list(np.extract(activation, neighbors))\n",
    "            \n",
    "            temp = list(set(candidates) - set(allActive) - set(latentA))\n",
    "\n",
    "            #store activation times of nodes in latentDict and nodes in latentA\n",
    "            for node in temp:\n",
    "                #latentNode = g.GetNI(node)\n",
    "                latentDict[node] = random.randrange(0, 10) + count \n",
    "                latentA += [int(node)]\n",
    "            \n",
    "            # resets list of current active nodes\n",
    "            # checks if item in latentA is ready to become active \n",
    "            # adds to aCurr \n",
    "            aCurr = []\n",
    "            remove = []\n",
    "                \n",
    "            for nodeL in latentDict:\n",
    "                actTime = int(latentDict[nodeL])\n",
    "                if actTime == count:\n",
    "                    aCurr.append(nodeL)\n",
    "                    pv += exponential(actTime)\n",
    "                    remove.append(nodeL)\n",
    "                    \n",
    "            if not len(remove) == 0:\n",
    "                for node in remove:\n",
    "                    del latentDict[node]\n",
    "                    latentA.remove(node)\n",
    "            \n",
    "            if not len(aCurr) == 0:\n",
    "                allActive += aCurr\n",
    "\n",
    "            if pv == 0:\n",
    "                break\n",
    "\n",
    "            count += 1\n",
    "\n",
    "        pvS.append(pv)\n",
    "    return np.mean(pvS)                "
   ]
  },
  {
   "cell_type": "code",
   "execution_count": 21,
   "metadata": {},
   "outputs": [
    {
     "name": "stdout",
     "output_type": "stream",
     "text": [
      "IC Propogation value of:  297.7820806347474\n"
     ]
    }
   ],
   "source": [
    "print(\"IC Propogation value of: \", ic(graph1, [100, 200, 300, 400, 500]))"
   ]
  },
  {
   "cell_type": "markdown",
   "metadata": {},
   "source": [
    "## Greedy algorithm - Independent Casecade"
   ]
  },
  {
   "cell_type": "markdown",
   "metadata": {},
   "source": [
    "In the greedy algorithm, we find a seed set of size k. The greedy algorithm works by computing the marginal gain for each possible candidate and selecting he node that gives use he best propogation value(bestPv). The marginal gain is simply the propogation value return by starting propogation on the model with [seedset + node_n]."
   ]
  },
  {
   "cell_type": "code",
   "execution_count": 7,
   "metadata": {},
   "outputs": [],
   "source": [
    "def greedy(g, k, p=0.5, mc=100):\n",
    "    \"\"\"\n",
    "    input: g - graph, k - set set size\n",
    "    output: optimal seed set\n",
    "    \"\"\"\n",
    "    seedSet, totalPv = [], 0\n",
    "    \n",
    "    #largest marginal gain\n",
    "    for i in range(k):\n",
    "        bestPv, bestNode = 0, 0\n",
    "        #candidates are nodes not in the seed set, k\n",
    "        for node in g.Nodes():\n",
    "            \n",
    "            # do not consider nodes in the seedSet\n",
    "            if node.GetId() in seedSet:\n",
    "                continue\n",
    "            \n",
    "            # get propogation value\n",
    "            pv = ic(g, seedSet + [node.GetId()], p, mc)\n",
    "            \n",
    "            if pv > bestPv:\n",
    "                bestPv = pv\n",
    "                bestNode = node.GetId()\n",
    "        \n",
    "        seedSet.append(bestNode)\n",
    "        print(seedSet)\n",
    "        totalPv += bestPv\n",
    "    \n",
    "    return (seedSet, totalPv)"
   ]
  },
  {
   "cell_type": "code",
   "execution_count": 23,
   "metadata": {},
   "outputs": [
    {
     "name": "stdout",
     "output_type": "stream",
     "text": [
      "[748]\n",
      "[748, 192]\n",
      "[748, 192, 642]\n",
      "[748, 192, 642, 577]\n",
      "[748, 192, 642, 577, 1965]\n",
      "[748, 192, 642, 577, 1965, 325]\n",
      "[748, 192, 642, 577, 1965, 325, 2142]\n",
      "[748, 192, 642, 577, 1965, 325, 2142, 2420]\n",
      "[748, 192, 642, 577, 1965, 325, 2142, 2420, 2455]\n",
      "[748, 192, 642, 577, 1965, 325, 2142, 2420, 2455, 1807]\n",
      "[748, 192, 642, 577, 1965, 325, 2142, 2420, 2455, 1807, 477]\n",
      "[748, 192, 642, 577, 1965, 325, 2142, 2420, 2455, 1807, 477, 1880]\n",
      "[748, 192, 642, 577, 1965, 325, 2142, 2420, 2455, 1807, 477, 1880, 835]\n",
      "[748, 192, 642, 577, 1965, 325, 2142, 2420, 2455, 1807, 477, 1880, 835, 1768]\n",
      "[748, 192, 642, 577, 1965, 325, 2142, 2420, 2455, 1807, 477, 1880, 835, 1768, 1744]\n",
      "[748, 192, 642, 577, 1965, 325, 2142, 2420, 2455, 1807, 477, 1880, 835, 1768, 1744, 808]\n",
      "[748, 192, 642, 577, 1965, 325, 2142, 2420, 2455, 1807, 477, 1880, 835, 1768, 1744, 808, 1093]\n",
      "[748, 192, 642, 577, 1965, 325, 2142, 2420, 2455, 1807, 477, 1880, 835, 1768, 1744, 808, 1093, 1199]\n",
      "[748, 192, 642, 577, 1965, 325, 2142, 2420, 2455, 1807, 477, 1880, 835, 1768, 1744, 808, 1093, 1199, 1364]\n",
      "[748, 192, 642, 577, 1965, 325, 2142, 2420, 2455, 1807, 477, 1880, 835, 1768, 1744, 808, 1093, 1199, 1364, 1905]\n",
      "([748, 192, 642, 577, 1965, 325, 2142, 2420, 2455, 1807, 477, 1880, 835, 1768, 1744, 808, 1093, 1199, 1364, 1905], 140.45023127795642)\n",
      "9.204782449408766\n",
      "Time taken to execute greedyic:  4233.851523399353\n"
     ]
    }
   ],
   "source": [
    "timer0start = time.time()\n",
    "result0 = greedy(graph1, 20, 0.025, 10)\n",
    "\n",
    "print(result0)\n",
    "print(ic(graph1, result0[0], 0.025, 10))\n",
    "\n",
    "timer0end = time.time() \n",
    "print(\"Time taken to execute greedyic: \", timer0end - timer0start)"
   ]
  },
  {
   "cell_type": "markdown",
   "metadata": {},
   "source": [
    "## Celf - Independent Cascade"
   ]
  },
  {
   "cell_type": "markdown",
   "metadata": {},
   "source": [
    "The celf aglorithm is an optimisation of the greedy algorithm. The idea is because of submodularity if we compute the marginal gain and of the [seedSet + node_n], and the result is still the best result then node_n must therefore be a better choice than the other candidates."
   ]
  },
  {
   "cell_type": "code",
   "execution_count": 9,
   "metadata": {},
   "outputs": [],
   "source": [
    "def celf(g, k, p=0.5, mc=100):\n",
    "    \"\"\"\n",
    "    input - g - graph, k - seet set\n",
    "    output - a seed set\n",
    "    \"\"\"\n",
    "    \n",
    "    #first iteration list and sort using a heap\n",
    "    candidates = [(-ic(g, [node.GetId()], p, mc), node.GetId()) for node in g.Nodes()]\n",
    "    h.heapify(candidates)\n",
    "    \n",
    "    # get the starting node and remove \n",
    "    seedSet, propVal = [candidates[0][1]], candidates[0][0]*-1\n",
    "    h.heappop(candidates)\n",
    "    \n",
    "    for i in range(k - 1):\n",
    "        \n",
    "        lock = False\n",
    "        while not lock:\n",
    "            \n",
    "            # recalculate the PV, and see if the node gives the largest marginal gain\n",
    "            current = h.heappop(candidates)\n",
    "            h.heappush(candidates, ((ic(g, seedSet + [current[1]], p, mc)*-1), current[1]))\n",
    "            \n",
    "            if candidates[0][1] == current[1]:\n",
    "                lock = True\n",
    "        \n",
    "        print(seedSet)\n",
    "        temp = h.heappop(candidates)\n",
    "        seedSet.append(temp[1])\n",
    "        propVal += (temp[0]*-1)\n",
    "    \n",
    "    return (seedSet, propVal)"
   ]
  },
  {
   "cell_type": "code",
   "execution_count": 27,
   "metadata": {},
   "outputs": [
    {
     "name": "stdout",
     "output_type": "stream",
     "text": [
      "[1260]\n",
      "[1260, 435]\n",
      "[1260, 435, 2369]\n",
      "[1260, 435, 2369, 1479]\n",
      "[1260, 435, 2369, 1479, 106]\n",
      "[1260, 435, 2369, 1479, 106, 2255]\n",
      "[1260, 435, 2369, 1479, 106, 2255, 2434]\n",
      "[1260, 435, 2369, 1479, 106, 2255, 2434, 1332]\n",
      "[1260, 435, 2369, 1479, 106, 2255, 2434, 1332, 163]\n",
      "[1260, 435, 2369, 1479, 106, 2255, 2434, 1332, 163, 633]\n",
      "[1260, 435, 2369, 1479, 106, 2255, 2434, 1332, 163, 633, 1954]\n",
      "[1260, 435, 2369, 1479, 106, 2255, 2434, 1332, 163, 633, 1954, 1653]\n",
      "[1260, 435, 2369, 1479, 106, 2255, 2434, 1332, 163, 633, 1954, 1653, 1404]\n",
      "[1260, 435, 2369, 1479, 106, 2255, 2434, 1332, 163, 633, 1954, 1653, 1404, 1013]\n",
      "[1260, 435, 2369, 1479, 106, 2255, 2434, 1332, 163, 633, 1954, 1653, 1404, 1013, 1342]\n",
      "[1260, 435, 2369, 1479, 106, 2255, 2434, 1332, 163, 633, 1954, 1653, 1404, 1013, 1342, 2211]\n",
      "[1260, 435, 2369, 1479, 106, 2255, 2434, 1332, 163, 633, 1954, 1653, 1404, 1013, 1342, 2211, 1648]\n",
      "[1260, 435, 2369, 1479, 106, 2255, 2434, 1332, 163, 633, 1954, 1653, 1404, 1013, 1342, 2211, 1648, 1039]\n",
      "[1260, 435, 2369, 1479, 106, 2255, 2434, 1332, 163, 633, 1954, 1653, 1404, 1013, 1342, 2211, 1648, 1039, 1924]\n",
      "([1260, 435, 2369, 1479, 106, 2255, 2434, 1332, 163, 633, 1954, 1653, 1404, 1013, 1342, 2211, 1648, 1039, 1924, 1152], 90.28270231690485)\n",
      "7.0443274396999715\n",
      "Time taken to execute celfic:  26.32856321334839\n"
     ]
    }
   ],
   "source": [
    "timer1start = time.time()\n",
    "result1 = celf(graph1, 20, 0.025, 10)\n",
    "\n",
    "print(result1)\n",
    "print(ic(graph1, result1[0], 0.025, 10))\n",
    "\n",
    "timer1end = time.time() \n",
    "print(\"Time taken to execute celfic: \", timer1end - timer1start)"
   ]
  },
  {
   "cell_type": "markdown",
   "metadata": {},
   "source": [
    "## Celf++ - Independent Casecade"
   ]
  },
  {
   "cell_type": "markdown",
   "metadata": {},
   "source": [
    "The celf++ algorithm is a further optimisation on the celf algorithm. This algorithm says that we are able to compute the marginal gain of another node within the current iteration, therefore in a further step in computation if the other node were to be chosen we do not need to recompute the marginal gain thereby saving computational time."
   ]
  },
  {
   "cell_type": "code",
   "execution_count": 10,
   "metadata": {},
   "outputs": [],
   "source": [
    "def celfPlus(g, k, p=0.5, mc=100):\n",
    "    \"\"\"\n",
    "    input - g - graph, k - seet set\n",
    "    output - a seed set\n",
    "    \"\"\"\n",
    "    \n",
    "    #first iteration list and sort using a heap\n",
    "    seedSet, candidates, lastSeed, curBest = [], [], None, None\n",
    "    mg1Max, propVal = 0, 0\n",
    "    \n",
    "    for node in g.Nodes():\n",
    "        mg1 = -ic(g, [node.GetId()], p, mc)\n",
    "        prevBest = curBest\n",
    "        mg2 = -ic(g, [curBest] + [node.GetId()], p, mc)\n",
    "        flag = 0 \n",
    "        candidates.append([mg1, node.GetId(), prevBest, mg2, flag])\n",
    "        curBest = candidates[0][1]\n",
    "    h.heapify(candidates)\n",
    "    \n",
    "    while len(seedSet) < k:\n",
    "        u = candidates[0]\n",
    "\n",
    "        if u[1] in seedSet:\n",
    "            candidates.remove(u)\n",
    "            continue\n",
    "        \n",
    "        if u[4] == len(seedSet):\n",
    "            print(seedSet)\n",
    "            seedSet += [u[1]]\n",
    "            propVal += (u[0]*-1)\n",
    "            candidates.remove(u)\n",
    "            lastSeed = u[1]\n",
    "            continue\n",
    "        elif u[2] == lastSeed:\n",
    "            u[0] = u[3]\n",
    "        else:\n",
    "            u[0] = -ic(g, [u[1]], p, mc)\n",
    "            u[2] = curBest\n",
    "            u[3] = -ic(g, [curBest] + [u[1]], p, mc)\n",
    "\n",
    "            stat = {candidates[0][1]:candidates[0][0], u[1]:u[0]}\n",
    "            curBest = max(stat.items(), key=operator.itemgetter(1))[0]\n",
    "\n",
    "        u[4] = len(seedSet)\n",
    "        h.heappush(candidates, u)\n",
    "        \n",
    "    return (seedSet, propVal)"
   ]
  },
  {
   "cell_type": "code",
   "execution_count": 28,
   "metadata": {},
   "outputs": [
    {
     "name": "stdout",
     "output_type": "stream",
     "text": [
      "[]\n",
      "[1322]\n",
      "[1322, 2429]\n",
      "[1322, 2429, 110]\n",
      "[1322, 2429, 110, 519]\n",
      "[1322, 2429, 110, 519, 733]\n",
      "[1322, 2429, 110, 519, 733, 422]\n",
      "[1322, 2429, 110, 519, 733, 422, 954]\n",
      "[1322, 2429, 110, 519, 733, 422, 954, 128]\n",
      "[1322, 2429, 110, 519, 733, 422, 954, 128, 1159]\n",
      "[1322, 2429, 110, 519, 733, 422, 954, 128, 1159, 1315]\n",
      "[1322, 2429, 110, 519, 733, 422, 954, 128, 1159, 1315, 379]\n",
      "[1322, 2429, 110, 519, 733, 422, 954, 128, 1159, 1315, 379, 1548]\n",
      "[1322, 2429, 110, 519, 733, 422, 954, 128, 1159, 1315, 379, 1548, 1773]\n",
      "[1322, 2429, 110, 519, 733, 422, 954, 128, 1159, 1315, 379, 1548, 1773, 1875]\n",
      "[1322, 2429, 110, 519, 733, 422, 954, 128, 1159, 1315, 379, 1548, 1773, 1875, 1934]\n",
      "[1322, 2429, 110, 519, 733, 422, 954, 128, 1159, 1315, 379, 1548, 1773, 1875, 1934, 1069]\n",
      "[1322, 2429, 110, 519, 733, 422, 954, 128, 1159, 1315, 379, 1548, 1773, 1875, 1934, 1069, 277]\n",
      "[1322, 2429, 110, 519, 733, 422, 954, 128, 1159, 1315, 379, 1548, 1773, 1875, 1934, 1069, 277, 2367]\n",
      "[1322, 2429, 110, 519, 733, 422, 954, 128, 1159, 1315, 379, 1548, 1773, 1875, 1934, 1069, 277, 2367, 1248]\n",
      "([1322, 2429, 110, 519, 733, 422, 954, 128, 1159, 1315, 379, 1548, 1773, 1875, 1934, 1069, 277, 2367, 1248, 80], 3.40128369607481)\n",
      "7.117893258045316\n",
      "Time taken to execute celfplusic:  67.9295506477356\n"
     ]
    }
   ],
   "source": [
    "timer2start = time.time()\n",
    "result2 = celfPlus(graph1, 20, 0.025, 10)\n",
    "\n",
    "print(result2)\n",
    "print(ic(graph1, result2[0], 0.025, 10))\n",
    "\n",
    "timer2end = time.time() \n",
    "print(\"Time taken to execute celfplusic: \", timer2end - timer2start)"
   ]
  },
  {
   "cell_type": "markdown",
   "metadata": {},
   "source": [
    "## Highest Degree priority"
   ]
  },
  {
   "cell_type": "code",
   "execution_count": 31,
   "metadata": {},
   "outputs": [],
   "source": [
    "def degree(g, k, p=0.5, mc=100):\n",
    "    seedSet, i = [], 0\n",
    "    bestNode, bestPv = 0, 0\n",
    "\n",
    "    #gets starter node\n",
    "    for node in g.Nodes():\n",
    "        \n",
    "        # do not consider nodes in the seedSet\n",
    "        if node.GetId() in seedSet:\n",
    "            continue\n",
    "        \n",
    "        # get propogation value\n",
    "        pv = ic(g, seedSet + [node.GetId()], p, mc)\n",
    "        \n",
    "        if pv > bestPv:\n",
    "            bestPv = pv\n",
    "            bestNode = node.GetId()\n",
    "\n",
    "    seedSet.append(bestNode)\n",
    "\n",
    "    #gets highest degree\n",
    "    while i < k:\n",
    "        candidates = []\n",
    "        print(seedSet)\n",
    "        for node in seedSet:\n",
    "            nodeIT = g.GetNI(int(node))\n",
    "            for neighbor in nodeIT.GetOutEdges():\n",
    "                neighborIT = g.GetNI(int(neighbor))\n",
    "                candidates.append([neighborIT.GetInDeg(), neighbor])\n",
    "        h.heapify(candidates)\n",
    "        seedSet.append(candidates.pop()[1])\n",
    "        i+=1\n",
    "    return seedSet"
   ]
  },
  {
   "cell_type": "code",
   "execution_count": 32,
   "metadata": {},
   "outputs": [
    {
     "name": "stdout",
     "output_type": "stream",
     "text": [
      "[131]\n",
      "[131, 627]\n",
      "[131, 627, 799]\n",
      "[131, 627, 799, 1555]\n",
      "[131, 627, 799, 1555, 135]\n",
      "[131, 627, 799, 1555, 135, 799]\n",
      "[131, 627, 799, 1555, 135, 799, 979]\n",
      "[131, 627, 799, 1555, 135, 799, 979, 2082]\n",
      "[131, 627, 799, 1555, 135, 799, 979, 2082, 1329]\n",
      "[131, 627, 799, 1555, 135, 799, 979, 2082, 1329, 70]\n",
      "[131, 627, 799, 1555, 135, 799, 979, 2082, 1329, 70, 2264]\n",
      "[131, 627, 799, 1555, 135, 799, 979, 2082, 1329, 70, 2264, 605]\n",
      "[131, 627, 799, 1555, 135, 799, 979, 2082, 1329, 70, 2264, 605, 551]\n",
      "[131, 627, 799, 1555, 135, 799, 979, 2082, 1329, 70, 2264, 605, 551, 1704]\n",
      "[131, 627, 799, 1555, 135, 799, 979, 2082, 1329, 70, 2264, 605, 551, 1704, 2031]\n",
      "[131, 627, 799, 1555, 135, 799, 979, 2082, 1329, 70, 2264, 605, 551, 1704, 2031, 1359]\n",
      "[131, 627, 799, 1555, 135, 799, 979, 2082, 1329, 70, 2264, 605, 551, 1704, 2031, 1359, 2299]\n",
      "[131, 627, 799, 1555, 135, 799, 979, 2082, 1329, 70, 2264, 605, 551, 1704, 2031, 1359, 2299, 821]\n",
      "[131, 627, 799, 1555, 135, 799, 979, 2082, 1329, 70, 2264, 605, 551, 1704, 2031, 1359, 2299, 821, 654]\n",
      "[131, 627, 799, 1555, 135, 799, 979, 2082, 1329, 70, 2264, 605, 551, 1704, 2031, 1359, 2299, 821, 654, 1857]\n",
      "[131, 627, 799, 1555, 135, 799, 979, 2082, 1329, 70, 2264, 605, 551, 1704, 2031, 1359, 2299, 821, 654, 1857, 2264]\n",
      "5.785960069613256\n",
      "Time taken to execute high degree ic:  23.7193546295166\n"
     ]
    }
   ],
   "source": [
    "timer3start = time.time()\n",
    "result3 = degree(graph1, 20, 0.025, 10)\n",
    "\n",
    "print(result3)\n",
    "print(ic(graph1, result3, 0.025, 10))\n",
    "\n",
    "timer3end = time.time() \n",
    "print(\"Time taken to execute high degree ic: \", timer3end - timer3start)"
   ]
  },
  {
   "cell_type": "markdown",
   "metadata": {},
   "source": [
    "## Genetic algorithm - tournament selection"
   ]
  },
  {
   "cell_type": "code",
   "execution_count": 33,
   "metadata": {},
   "outputs": [],
   "source": [
    "def tournamentSelection(g, k, p=0.5, mc=100):\n",
    "    seedSet, bestNode, bestPv = [], 0, 0\n",
    "\n",
    "    Rnd = snap.TRnd(42)\n",
    "    Rnd.Randomize()\n",
    "    while len(seedSet) < k:\n",
    "        #choose k individuals from the population at random\n",
    "        randNode = g.GetRndNId(Rnd)\n",
    "\n",
    "        pv = ic(g, seedSet + [randNode], p, mc)\n",
    "        \n",
    "        if pv > bestPv:\n",
    "            print(seedSet)\n",
    "            bestPv = pv\n",
    "            bestNode = randNode\n",
    "            seedSet.append(randNode)\n",
    "    return seedSet"
   ]
  },
  {
   "cell_type": "code",
   "execution_count": 34,
   "metadata": {},
   "outputs": [
    {
     "name": "stdout",
     "output_type": "stream",
     "text": [
      "[]\n",
      "[595]\n",
      "[595, 2254]\n",
      "[595, 2254, 945]\n",
      "[595, 2254, 945, 1708]\n",
      "[595, 2254, 945, 1708, 2416]\n",
      "[595, 2254, 945, 1708, 2416, 1364]\n",
      "[595, 2254, 945, 1708, 2416, 1364, 168]\n",
      "[595, 2254, 945, 1708, 2416, 1364, 168, 1357]\n",
      "[595, 2254, 945, 1708, 2416, 1364, 168, 1357, 2358]\n",
      "[595, 2254, 945, 1708, 2416, 1364, 168, 1357, 2358, 87]\n",
      "[595, 2254, 945, 1708, 2416, 1364, 168, 1357, 2358, 87, 886]\n",
      "[595, 2254, 945, 1708, 2416, 1364, 168, 1357, 2358, 87, 886, 1406]\n",
      "[595, 2254, 945, 1708, 2416, 1364, 168, 1357, 2358, 87, 886, 1406, 593]\n",
      "[595, 2254, 945, 1708, 2416, 1364, 168, 1357, 2358, 87, 886, 1406, 593, 467]\n",
      "[595, 2254, 945, 1708, 2416, 1364, 168, 1357, 2358, 87, 886, 1406, 593, 467, 1380]\n",
      "[595, 2254, 945, 1708, 2416, 1364, 168, 1357, 2358, 87, 886, 1406, 593, 467, 1380, 724]\n",
      "[595, 2254, 945, 1708, 2416, 1364, 168, 1357, 2358, 87, 886, 1406, 593, 467, 1380, 724, 648]\n",
      "[595, 2254, 945, 1708, 2416, 1364, 168, 1357, 2358, 87, 886, 1406, 593, 467, 1380, 724, 648, 152]\n",
      "[595, 2254, 945, 1708, 2416, 1364, 168, 1357, 2358, 87, 886, 1406, 593, 467, 1380, 724, 648, 152, 750]\n",
      "[595, 2254, 945, 1708, 2416, 1364, 168, 1357, 2358, 87, 886, 1406, 593, 467, 1380, 724, 648, 152, 750, 251]\n",
      "6.4770735950737315\n",
      "Time taken to execute tournament selection ic:  14.387619972229004\n"
     ]
    }
   ],
   "source": [
    "timer4start = time.time()\n",
    "result4 = tournamentSelection(graph1, 20, 0.025, 10)\n",
    "\n",
    "print(result4)\n",
    "print(ic(graph1, result4, 0.025, 10))\n",
    "\n",
    "timer4end = time.time() \n",
    "print(\"Time taken to execute tournament selection ic: \", timer4end - timer4start)"
   ]
  },
  {
   "cell_type": "markdown",
   "metadata": {},
   "source": [
    "## Genetic algorithm - Stochastic Universal Sampling"
   ]
  },
  {
   "cell_type": "code",
   "execution_count": 35,
   "metadata": {},
   "outputs": [],
   "source": [
    "def sus(population, n, g, seedSet, p=0.5, mc=100):\n",
    "    f = 0\n",
    "\n",
    "    for item in population:\n",
    "        f += ic(g, seedSet + [item[1]], p, mc)\n",
    "\n",
    "    p = floor(f/n)\n",
    "    start = random.randrange(0, p)\n",
    "    pointers = [start + i*p for i in range(n-1)]\n",
    "    return rws(population, pointers, f)\n",
    "\n",
    "#roulette wheel selection\n",
    "def rws(population, points, f):\n",
    "    keep = []\n",
    "    for p in points:\n",
    "        i = 0\n",
    "        while f < p:\n",
    "            i+=1\n",
    "        keep.append(population[i])\n",
    "    return keep\n",
    "\n",
    "def stochasticSampling(g, k, p=0.5, mc=100):\n",
    "    seedSet = []\n",
    "\n",
    "    #first iteration list and sort using a heap\n",
    "    candidates = [(-ic(g, [node.GetId()], p, mc), node.GetId()) for node in g.Nodes()]\n",
    "    h.heapify(candidates)\n",
    "\n",
    "    # get the starting node and remove \n",
    "    seedSet, propVal = [candidates[0][1]], candidates[0][0]*-1\n",
    "    h.heappop(candidates)\n",
    "    \n",
    "    #largest marginal gain\n",
    "    for i in range(k - 1):\n",
    "        member = sus(candidates, 3, g, seedSet, 0.025, mc)[random.randrange(0,2)][1]\n",
    "        temp = []\n",
    "\n",
    "        while member != candidates[0][1]:\n",
    "            temp.append(h.heappop(candidates))\n",
    "\n",
    "        h.heappop(candidates)\n",
    "        print(seedSet)\n",
    "        for item in temp:\n",
    "            h.heappush(candidates, item)\n",
    "        seedSet.append(member)\n",
    "\n",
    "    return seedSet"
   ]
  },
  {
   "cell_type": "code",
   "execution_count": null,
   "metadata": {},
   "outputs": [],
   "source": [
    "timer5start = time.time()\n",
    "result5 = stochasticSampling(graph1, 20, 0.025, 10)\n",
    "\n",
    "print(result5)\n",
    "print(ic(graph1, result5, 0.025, 10))\n",
    "\n",
    "timer5end = time.time() \n",
    "print(\"Time taken to execute stochastic Sampling ic: \", timer5end - timer5start)"
   ]
  },
  {
   "cell_type": "markdown",
   "metadata": {},
   "source": [
    "## Time sensitive Linear Threshold\n",
    "\n",
    "In the linear threshold model a node gets activated if the sum of the influence exceeds the threshold for that node. The function returns a propogation value based on the seed set, s, and the graph, g, that is provided. Propogation value can be calculated with 1 or more nodes in the seed set. "
   ]
  },
  {
   "cell_type": "code",
   "execution_count": 36,
   "metadata": {},
   "outputs": [],
   "source": [
    "def lt(g, s, mc=100):\n",
    "    \"\"\" \n",
    "    input: g - graph, s - seed set, mc - number of montecarlo simulations\n",
    "    output: propogation value\n",
    "    \"\"\"\n",
    "    #result of mc simulations\n",
    "    pvS = []\n",
    "    \n",
    "    for i in range(mc):\n",
    "        #propogate under lt style\n",
    "        aCurr, allActive, latentA, latentDict, pv = s.copy(), s.copy(), [], {}, 0\n",
    "        count = 0\n",
    "        \n",
    "        while aCurr or latentA:\n",
    "            candidates = []\n",
    "            for n in aCurr:\n",
    "                \n",
    "                if n == None:\n",
    "                    continue\n",
    "                \n",
    "                neighbors = list()\n",
    "                node = g.GetNI(int(n))\n",
    "                influences = list()\n",
    "                \n",
    "                for neighbor in node.GetOutEdges():\n",
    "\n",
    "                    if neighbor in allActive:\n",
    "                        continue\n",
    "\n",
    "                    #thresholds.append(g.GetFltAttrDatN(neighbor, \"threshold\"))\n",
    "                    neighbors.append(neighbor)\n",
    "                    neighborNode = g.GetNI(int(neighbor))\n",
    "                    \n",
    "                    #give normalised influence values\n",
    "                    np.random.seed(i)\n",
    "                    weights = [random.random() for j in range(neighborNode.GetInDeg())]\n",
    "                    weights = [k / sum(weights) for k in weights]\n",
    "                    \n",
    "                    #calculate total influence from nodes\n",
    "                    influenceValue = 0\n",
    "                    counting = 0\n",
    "                    for neighborNeighbor in neighborNode.GetInEdges():\n",
    "                        if neighborNeighbor in allActive:\n",
    "                            influenceValue += weights[counting]\n",
    "                        counting +=1\n",
    "                    \n",
    "                    influences.append(influenceValue)\n",
    "                \n",
    "                #loop through graph and assign weights to inedges\n",
    "                thresholds = np.random.uniform(low=0, high=1, size=(len(influences),))\n",
    "                activation = np.asarray(influences) >= (np.array(thresholds)/1.1)\n",
    "                candidates += list(np.extract(activation, neighbors))\n",
    "\n",
    "            temp = list(set(candidates) - set(allActive) - set(latentA))\n",
    "\n",
    "            #store activation times of nodes in latentDict and nodes in latentA\n",
    "            for node in temp:\n",
    "                latentDict[node] = random.randrange(0, 10) + count \n",
    "                latentA += [int(node)]\n",
    "\n",
    "            # resets list of current active nodes\n",
    "            # checks if item in latentA is ready to become active \n",
    "            # adds to aCurr \n",
    "            aCurr = []\n",
    "            remove = []\n",
    "\n",
    "            for nodeL in latentDict:\n",
    "                actTime = int(latentDict[nodeL])\n",
    "                if actTime == count:\n",
    "                    aCurr.append(nodeL)\n",
    "                    pv += exponential(actTime)\n",
    "                    remove.append(nodeL)\n",
    "\n",
    "            if not len(remove) == 0:\n",
    "                for node in remove:\n",
    "                    del latentDict[node]\n",
    "                    latentA.remove(node)\n",
    "\n",
    "            if not len(aCurr) == 0:\n",
    "                allActive += aCurr\n",
    "\n",
    "            if pv == 0:\n",
    "                break\n",
    "\n",
    "            count += 1\n",
    "                \n",
    "        pvS.append(pv)\n",
    "    return np.mean(pvS)"
   ]
  },
  {
   "cell_type": "markdown",
   "metadata": {},
   "source": [
    "## Greedy - Linear Threshold"
   ]
  },
  {
   "cell_type": "code",
   "execution_count": 51,
   "metadata": {},
   "outputs": [],
   "source": [
    "def greedylt(g, k, mc=100):\n",
    "    \"\"\"\n",
    "    input: g - graph, k - set set size\n",
    "    output: optimal seed set\n",
    "    \"\"\"\n",
    "    seedSet, totalPv = [], 0\n",
    "    \n",
    "    #largest marginal gain\n",
    "    for i in range(k):\n",
    "        bestPv, bestNode = 0, 0\n",
    "        #candidates are nodes not in the seed set, k\n",
    "        for node in g.Nodes():\n",
    "            \n",
    "            # do not consider nodes in the seedSet\n",
    "            if node.GetId() in seedSet:\n",
    "                continue\n",
    "            \n",
    "            # get propogation value\n",
    "            pv = lt(g, seedSet + [node.GetId()], mc)\n",
    "            \n",
    "            if pv > bestPv:\n",
    "                bestPv = pv\n",
    "                bestNode = node.GetId()\n",
    "        \n",
    "        seedSet.append(bestNode)\n",
    "        print(seedSet)\n",
    "        totalPv += bestPv\n",
    "    \n",
    "    return (seedSet, totalPv)"
   ]
  },
  {
   "cell_type": "code",
   "execution_count": 53,
   "metadata": {},
   "outputs": [
    {
     "name": "stdout",
     "output_type": "stream",
     "text": [
      "[640]\n",
      "[640, 332]\n",
      "[640, 332, 1868]\n",
      "[640, 332, 1868, 2150]\n",
      "[640, 332, 1868, 2150, 1215]\n",
      "[640, 332, 1868, 2150, 1215, 1504]\n",
      "[640, 332, 1868, 2150, 1215, 1504, 2132]\n",
      "[640, 332, 1868, 2150, 1215, 1504, 2132, 425]\n"
     ]
    },
    {
     "ename": "KeyboardInterrupt",
     "evalue": "",
     "output_type": "error",
     "traceback": [
      "\u001b[0;31m---------------------------------------------------------------------------\u001b[0m",
      "\u001b[0;31mKeyboardInterrupt\u001b[0m                         Traceback (most recent call last)",
      "\u001b[0;32m<ipython-input-53-d041a92943a3>\u001b[0m in \u001b[0;36m<module>\u001b[0;34m\u001b[0m\n\u001b[1;32m      1\u001b[0m \u001b[0mtimer6start\u001b[0m \u001b[0;34m=\u001b[0m \u001b[0mtime\u001b[0m\u001b[0;34m.\u001b[0m\u001b[0mtime\u001b[0m\u001b[0;34m(\u001b[0m\u001b[0;34m)\u001b[0m\u001b[0;34m\u001b[0m\u001b[0m\n\u001b[0;32m----> 2\u001b[0;31m \u001b[0mresult6\u001b[0m \u001b[0;34m=\u001b[0m \u001b[0mgreedylt\u001b[0m\u001b[0;34m(\u001b[0m\u001b[0mgraph1\u001b[0m\u001b[0;34m,\u001b[0m \u001b[0;36m20\u001b[0m\u001b[0;34m,\u001b[0m \u001b[0;36m1\u001b[0m\u001b[0;34m)\u001b[0m\u001b[0;34m\u001b[0m\u001b[0m\n\u001b[0m\u001b[1;32m      3\u001b[0m \u001b[0;34m\u001b[0m\u001b[0m\n\u001b[1;32m      4\u001b[0m \u001b[0mprint\u001b[0m\u001b[0;34m(\u001b[0m\u001b[0mresult6\u001b[0m\u001b[0;34m)\u001b[0m\u001b[0;34m\u001b[0m\u001b[0m\n\u001b[1;32m      5\u001b[0m \u001b[0mprint\u001b[0m\u001b[0;34m(\u001b[0m\u001b[0mlt\u001b[0m\u001b[0;34m(\u001b[0m\u001b[0mgraph1\u001b[0m\u001b[0;34m,\u001b[0m \u001b[0mresult6\u001b[0m\u001b[0;34m[\u001b[0m\u001b[0;36m0\u001b[0m\u001b[0;34m]\u001b[0m\u001b[0;34m,\u001b[0m \u001b[0;36m10\u001b[0m\u001b[0;34m)\u001b[0m\u001b[0;34m)\u001b[0m\u001b[0;34m\u001b[0m\u001b[0m\n",
      "\u001b[0;32m<ipython-input-51-7e0188112373>\u001b[0m in \u001b[0;36mgreedylt\u001b[0;34m(g, k, mc)\u001b[0m\n\u001b[1;32m     17\u001b[0m \u001b[0;34m\u001b[0m\u001b[0m\n\u001b[1;32m     18\u001b[0m             \u001b[0;31m# get propogation value\u001b[0m\u001b[0;34m\u001b[0m\u001b[0;34m\u001b[0m\u001b[0m\n\u001b[0;32m---> 19\u001b[0;31m             \u001b[0mpv\u001b[0m \u001b[0;34m=\u001b[0m \u001b[0mlt\u001b[0m\u001b[0;34m(\u001b[0m\u001b[0mg\u001b[0m\u001b[0;34m,\u001b[0m \u001b[0mseedSet\u001b[0m \u001b[0;34m+\u001b[0m \u001b[0;34m[\u001b[0m\u001b[0mnode\u001b[0m\u001b[0;34m.\u001b[0m\u001b[0mGetId\u001b[0m\u001b[0;34m(\u001b[0m\u001b[0;34m)\u001b[0m\u001b[0;34m]\u001b[0m\u001b[0;34m,\u001b[0m \u001b[0mmc\u001b[0m\u001b[0;34m)\u001b[0m\u001b[0;34m\u001b[0m\u001b[0m\n\u001b[0m\u001b[1;32m     20\u001b[0m \u001b[0;34m\u001b[0m\u001b[0m\n\u001b[1;32m     21\u001b[0m             \u001b[0;32mif\u001b[0m \u001b[0mpv\u001b[0m \u001b[0;34m>\u001b[0m \u001b[0mbestPv\u001b[0m\u001b[0;34m:\u001b[0m\u001b[0;34m\u001b[0m\u001b[0m\n",
      "\u001b[0;32m<ipython-input-36-81b37dd735c4>\u001b[0m in \u001b[0;36mlt\u001b[0;34m(g, s, mc)\u001b[0m\n\u001b[1;32m     41\u001b[0m                     \u001b[0mcounting\u001b[0m \u001b[0;34m=\u001b[0m \u001b[0;36m0\u001b[0m\u001b[0;34m\u001b[0m\u001b[0m\n\u001b[1;32m     42\u001b[0m                     \u001b[0;32mfor\u001b[0m \u001b[0mneighborNeighbor\u001b[0m \u001b[0;32min\u001b[0m \u001b[0mneighborNode\u001b[0m\u001b[0;34m.\u001b[0m\u001b[0mGetInEdges\u001b[0m\u001b[0;34m(\u001b[0m\u001b[0;34m)\u001b[0m\u001b[0;34m:\u001b[0m\u001b[0;34m\u001b[0m\u001b[0m\n\u001b[0;32m---> 43\u001b[0;31m                         \u001b[0;32mif\u001b[0m \u001b[0mneighborNeighbor\u001b[0m \u001b[0;32min\u001b[0m \u001b[0mallActive\u001b[0m\u001b[0;34m:\u001b[0m\u001b[0;34m\u001b[0m\u001b[0m\n\u001b[0m\u001b[1;32m     44\u001b[0m                             \u001b[0minfluenceValue\u001b[0m \u001b[0;34m+=\u001b[0m \u001b[0mweights\u001b[0m\u001b[0;34m[\u001b[0m\u001b[0mcounting\u001b[0m\u001b[0;34m]\u001b[0m\u001b[0;34m\u001b[0m\u001b[0m\n\u001b[1;32m     45\u001b[0m                         \u001b[0mcounting\u001b[0m \u001b[0;34m+=\u001b[0m\u001b[0;36m1\u001b[0m\u001b[0;34m\u001b[0m\u001b[0m\n",
      "\u001b[0;31mKeyboardInterrupt\u001b[0m: "
     ]
    }
   ],
   "source": [
    "timer6start = time.time()\n",
    "result6 = greedylt(graph1, 20, 1)\n",
    "\n",
    "print(result6)\n",
    "print(lt(graph1, result6[0], 10))\n",
    "\n",
    "timer6end = time.time() \n",
    "print(\"Time taken to execute stochastic greedylt: \", timer6end - timer6start)"
   ]
  },
  {
   "cell_type": "markdown",
   "metadata": {},
   "source": [
    "## Celf - Linear Threshold"
   ]
  },
  {
   "cell_type": "code",
   "execution_count": 49,
   "metadata": {},
   "outputs": [],
   "source": [
    "def celflt(g, k, mc=100):\n",
    "    \"\"\"\n",
    "    input - g - graph, k - seet set\n",
    "    output - a seed set\n",
    "    \"\"\"\n",
    "    \n",
    "    #first iteration list and sort using a heap\n",
    "    candidates = [(-lt(g, [node.GetId()], mc), node.GetId()) for node in g.Nodes()]\n",
    "    h.heapify(candidates)\n",
    "    \n",
    "    # get the starting node and remove \n",
    "    seedSet, propVal = [candidates[0][1]], candidates[0][0]*-1\n",
    "    h.heappop(candidates)\n",
    "    \n",
    "    for i in range(k - 1):\n",
    "        \n",
    "        lock = False\n",
    "        while not lock:\n",
    "            \n",
    "            # recalculate the PV, and see if the node gives the largest marginal gain\n",
    "            current = h.heappop(candidates)\n",
    "            h.heappush(candidates, ((lt(g, seedSet + [current[1]], mc)*-1), current[1]))\n",
    "            \n",
    "            if candidates[0][1] == current[1]:\n",
    "                lock = True\n",
    "        \n",
    "        print(seedSet)\n",
    "        temp = h.heappop(candidates)\n",
    "        seedSet.append(temp[1])\n",
    "        propVal += (temp[0]*-1)\n",
    "    \n",
    "    return (seedSet, propVal)"
   ]
  },
  {
   "cell_type": "code",
   "execution_count": 50,
   "metadata": {},
   "outputs": [
    {
     "name": "stdout",
     "output_type": "stream",
     "text": [
      "[440]\n",
      "[440, 737]\n",
      "[440, 737, 498]\n",
      "[440, 737, 498, 2014]\n",
      "[440, 737, 498, 2014, 596]\n",
      "[440, 737, 498, 2014, 596, 1718]\n",
      "[440, 737, 498, 2014, 596, 1718, 386]\n",
      "[440, 737, 498, 2014, 596, 1718, 386, 1549]\n",
      "[440, 737, 498, 2014, 596, 1718, 386, 1549, 191]\n",
      "[440, 737, 498, 2014, 596, 1718, 386, 1549, 191, 1326]\n",
      "[440, 737, 498, 2014, 596, 1718, 386, 1549, 191, 1326, 640]\n",
      "[440, 737, 498, 2014, 596, 1718, 386, 1549, 191, 1326, 640, 198]\n",
      "[440, 737, 498, 2014, 596, 1718, 386, 1549, 191, 1326, 640, 198, 141]\n",
      "[440, 737, 498, 2014, 596, 1718, 386, 1549, 191, 1326, 640, 198, 141, 1277]\n",
      "[440, 737, 498, 2014, 596, 1718, 386, 1549, 191, 1326, 640, 198, 141, 1277, 2179]\n",
      "[440, 737, 498, 2014, 596, 1718, 386, 1549, 191, 1326, 640, 198, 141, 1277, 2179, 2138]\n",
      "[440, 737, 498, 2014, 596, 1718, 386, 1549, 191, 1326, 640, 198, 141, 1277, 2179, 2138, 940]\n",
      "[440, 737, 498, 2014, 596, 1718, 386, 1549, 191, 1326, 640, 198, 141, 1277, 2179, 2138, 940, 1954]\n",
      "[440, 737, 498, 2014, 596, 1718, 386, 1549, 191, 1326, 640, 198, 141, 1277, 2179, 2138, 940, 1954, 318]\n",
      "([440, 737, 498, 2014, 596, 1718, 386, 1549, 191, 1326, 640, 198, 141, 1277, 2179, 2138, 940, 1954, 318, 2398], 316.60844282533276)\n",
      "48.45991826711346\n",
      "Time taken to execute stochastic celflt:  288.5305972099304\n"
     ]
    }
   ],
   "source": [
    "timer7start = time.time()\n",
    "result7 = celflt(graph1, 20, 1)\n",
    "\n",
    "print(result7)\n",
    "print(lt(graph1, result7[0], 10))\n",
    "\n",
    "timer7end = time.time() \n",
    "print(\"Time taken to execute stochastic celflt: \", timer7end - timer7start)"
   ]
  },
  {
   "cell_type": "markdown",
   "metadata": {},
   "source": [
    "## Celf++ - Linear Threshold"
   ]
  },
  {
   "cell_type": "code",
   "execution_count": 47,
   "metadata": {},
   "outputs": [],
   "source": [
    "def celfPluslt(g, k, mc=100):\n",
    "    \"\"\"\n",
    "    input - g - graph, k - seet set\n",
    "    output - a seed set\n",
    "    \"\"\"\n",
    "    \n",
    "    #first iteration list and sort using a heap\n",
    "    seedSet, candidates, lastSeed, curBest = [], [], None, None\n",
    "    mg1Max, propVal = 0, 0\n",
    "    \n",
    "    for node in g.Nodes():\n",
    "        mg1 = -lt(g, [node.GetId()], mc)\n",
    "        prevBest = curBest\n",
    "        mg2 = -lt(g, [curBest] + [node.GetId()], mc)\n",
    "        flag = 0 \n",
    "        candidates.append([mg1, node.GetId(), prevBest, mg2, flag])\n",
    "        curBest = candidates[0][1]\n",
    "    h.heapify(candidates)\n",
    "    \n",
    "    while len(seedSet) < k:\n",
    "        u = candidates[0]\n",
    "        \n",
    "        if u[1] in seedSet:\n",
    "            candidates.remove(u)\n",
    "            continue\n",
    "\n",
    "        if u[4] == len(seedSet):\n",
    "            print(seedSet)\n",
    "            seedSet += [u[1]]\n",
    "            propVal += (u[0]*-1)\n",
    "            candidates.remove(u)\n",
    "            lastSeed = u[1]\n",
    "            continue\n",
    "        elif u[2] == lastSeed:\n",
    "            # optimisation: recompute the marginal gain without using lt method\n",
    "            u[0] = u[3]\n",
    "        else:\n",
    "            u[0] = -lt(g, [u[1]], mc)\n",
    "            u[2] = curBest\n",
    "            u[3] = -lt(g, [curBest] +[u[1]], mc)\n",
    "\n",
    "            stat = {candidates[0][1]:candidates[0][0], u[1]:u[0]}\n",
    "            curBest = max(stat.items(), key=operator.itemgetter(1))[0]\n",
    "\n",
    "        u[4] = len(seedSet)\n",
    "        h.heappush(candidates, u)\n",
    "        \n",
    "    return (seedSet, propVal)"
   ]
  },
  {
   "cell_type": "code",
   "execution_count": 48,
   "metadata": {},
   "outputs": [
    {
     "name": "stdout",
     "output_type": "stream",
     "text": [
      "[]\n",
      "[264]\n",
      "[264, 303]\n",
      "[264, 303, 1599]\n",
      "[264, 303, 1599, 2422]\n",
      "[264, 303, 1599, 2422, 326]\n",
      "[264, 303, 1599, 2422, 326, 1757]\n",
      "[264, 303, 1599, 2422, 326, 1757, 1018]\n",
      "[264, 303, 1599, 2422, 326, 1757, 1018, 2071]\n",
      "[264, 303, 1599, 2422, 326, 1757, 1018, 2071, 2449]\n",
      "[264, 303, 1599, 2422, 326, 1757, 1018, 2071, 2449, 1332]\n",
      "[264, 303, 1599, 2422, 326, 1757, 1018, 2071, 2449, 1332, 725]\n",
      "[264, 303, 1599, 2422, 326, 1757, 1018, 2071, 2449, 1332, 725, 772]\n",
      "[264, 303, 1599, 2422, 326, 1757, 1018, 2071, 2449, 1332, 725, 772, 216]\n",
      "[264, 303, 1599, 2422, 326, 1757, 1018, 2071, 2449, 1332, 725, 772, 216, 1873]\n",
      "[264, 303, 1599, 2422, 326, 1757, 1018, 2071, 2449, 1332, 725, 772, 216, 1873, 1947]\n",
      "[264, 303, 1599, 2422, 326, 1757, 1018, 2071, 2449, 1332, 725, 772, 216, 1873, 1947, 1049]\n",
      "[264, 303, 1599, 2422, 326, 1757, 1018, 2071, 2449, 1332, 725, 772, 216, 1873, 1947, 1049, 2221]\n",
      "[264, 303, 1599, 2422, 326, 1757, 1018, 2071, 2449, 1332, 725, 772, 216, 1873, 1947, 1049, 2221, 2412]\n",
      "[264, 303, 1599, 2422, 326, 1757, 1018, 2071, 2449, 1332, 725, 772, 216, 1873, 1947, 1049, 2221, 2412, 2472]\n",
      "([264, 303, 1599, 2422, 326, 1757, 1018, 2071, 2449, 1332, 725, 772, 216, 1873, 1947, 1049, 2221, 2412, 2472, 162], 16.407961278630044)\n",
      "60.77196722399566\n",
      "Time taken to execute stochastic celfPluslt:  286.3875434398651\n"
     ]
    }
   ],
   "source": [
    "timer8start = time.time()\n",
    "result8 = celfPluslt(graph1, 20, 1)\n",
    "\n",
    "print(result8)\n",
    "print(lt(graph1, result8[0], 10))\n",
    "\n",
    "timer8end = time.time() \n",
    "print(\"Time taken to execute stochastic celfPluslt: \", timer8end - timer8start)"
   ]
  },
  {
   "cell_type": "markdown",
   "metadata": {},
   "source": [
    "## High Degree - Linear Threshold"
   ]
  },
  {
   "cell_type": "code",
   "execution_count": 75,
   "metadata": {},
   "outputs": [],
   "source": [
    "def degreelt(g, k, mc=100):\n",
    "    seedSet, i = [], 0\n",
    "    bestNode, bestPv = 0, 0\n",
    "\n",
    "    #gets starter node\n",
    "    for node in g.Nodes():\n",
    "        \n",
    "        # do not consider nodes in the seedSet\n",
    "        if node.GetId() in seedSet:\n",
    "            continue\n",
    "        \n",
    "        # get propogation value\n",
    "        pv = lt(g, seedSet + [node.GetId()], mc)\n",
    "        \n",
    "        if pv > bestPv:\n",
    "            bestPv = pv\n",
    "            bestNode = node.GetId()\n",
    "\n",
    "    seedSet.append(bestNode)\n",
    "\n",
    "    #gets highest degree\n",
    "    while i < k:\n",
    "        candidates = []\n",
    "        print(seedSet)\n",
    "        for node in seedSet:\n",
    "            nodeIT = g.GetNI(int(node))\n",
    "            for neighbor in nodeIT.GetOutEdges():\n",
    "                neighborIT = g.GetNI(int(neighbor))\n",
    "                candidates.append([neighborIT.GetInDeg(), neighbor])\n",
    "        h.heapify(candidates)\n",
    "        seedSet.append(candidates.pop()[1])\n",
    "        i+=1\n",
    "    return seedSet"
   ]
  },
  {
   "cell_type": "code",
   "execution_count": null,
   "metadata": {},
   "outputs": [],
   "source": [
    "timer9start = time.time()\n",
    "result9 = degreelt(graph1, 20, 10)\n",
    "\n",
    "print(result9)\n",
    "print(lt(graph1, result9, 10))\n",
    "\n",
    "timer9end = time.time() \n",
    "print(\"Time taken to execute stochastic degreelt: \", timer9end - timer9start)"
   ]
  },
  {
   "cell_type": "markdown",
   "metadata": {},
   "source": [
    "## Genetic Algorithm Tournament Selection - Linear Threshold"
   ]
  },
  {
   "cell_type": "code",
   "execution_count": 77,
   "metadata": {},
   "outputs": [],
   "source": [
    "def tournamentSelectionlt(g, k, p=0.5, mc=100):\n",
    "    seedSet, bestNode, bestPv = [], 0, 0\n",
    "\n",
    "    Rnd = snap.TRnd(42)\n",
    "    Rnd.Randomize()\n",
    "    while len(seedSet) < k:\n",
    "        #choose k individuals from the population at random\n",
    "        randNode = g.GetRndNId(Rnd)\n",
    "\n",
    "        pv = lt(g, seedSet + [randNode], p, mc)\n",
    "        \n",
    "        if pv > bestPv:\n",
    "            print(seedSet)\n",
    "            bestPv = pv\n",
    "            bestNode = randNode\n",
    "            seedSet.append(randNode)\n",
    "    return seedSet"
   ]
  },
  {
   "cell_type": "code",
   "execution_count": null,
   "metadata": {},
   "outputs": [],
   "source": [
    "timer10start = time.time()\n",
    "result10 = tournamentSelectionlt(graph1, 20, 10)\n",
    "\n",
    "print(result10)\n",
    "print(lt(graph1, result10, 10))\n",
    "\n",
    "timer10end = time.time() \n",
    "print(\"Time taken to execute stochastic tournamentSelectionlt: \", timer10end - timer10start)"
   ]
  },
  {
   "cell_type": "markdown",
   "metadata": {},
   "source": [
    "## Genetic Algorithm Stochastic Sampling - Linear Threshold"
   ]
  },
  {
   "cell_type": "code",
   "execution_count": 76,
   "metadata": {},
   "outputs": [],
   "source": [
    "def suslt(population, n, g, seedSet, p=0.5, mc=100):\n",
    "    f = 0\n",
    "\n",
    "    for item in population:\n",
    "        f += lt(g, seedSet + [item[1]], p, mc)\n",
    "\n",
    "    p = floor(f/n)\n",
    "    start = random.randrange(0, p)\n",
    "    pointers = [start + i*p for i in range(n-1)]\n",
    "    return rwslt(population, pointers, f)\n",
    "\n",
    "#roulette wheel selection\n",
    "def rwslt(population, points, f):\n",
    "    keep = []\n",
    "    for p in points:\n",
    "        i = 0\n",
    "        while f < p:\n",
    "            i+=1\n",
    "        keep.append(population[i])\n",
    "    return keep\n",
    "\n",
    "def stochasticSamplinglt(g, k, p=0.5, mc=100):\n",
    "    seedSet = []\n",
    "\n",
    "    #first iteration list and sort using a heap\n",
    "    candidates = [(-lt(g, [node.GetId()], p, mc), node.GetId()) for node in g.Nodes()]\n",
    "    h.heapify(candidates)\n",
    "\n",
    "    # get the starting node and remove \n",
    "    seedSet, propVal = [candidates[0][1]], candidates[0][0]*-1\n",
    "    h.heappop(candidates)\n",
    "    \n",
    "    #largest marginal gain\n",
    "    for i in range(k - 1):\n",
    "        member = suslt(candidates, 3, g, seedSet, 0.025, mc)[random.randrange(0,2)][1]\n",
    "        temp = []\n",
    "\n",
    "        while member != candidates[0][1]:\n",
    "            temp.append(h.heappop(candidates))\n",
    "\n",
    "        h.heappop(candidates)\n",
    "        print(seedSet)\n",
    "        for item in temp:\n",
    "            h.heappush(candidates, item)\n",
    "        seedSet.append(member)\n",
    "\n",
    "    return seedSet"
   ]
  },
  {
   "cell_type": "code",
   "execution_count": null,
   "metadata": {},
   "outputs": [],
   "source": [
    "timer11start = time.time()\n",
    "result11 = stochasticSamplinglt(graph1, 20, 10)\n",
    "\n",
    "print(result11)\n",
    "print(lt(graph1, result11, 10))\n",
    "\n",
    "timer11end = time.time() \n",
    "print(\"Time taken to execute stochastic stochasticSamplinglt: \", timer11end - timer11start)"
   ]
  },
  {
   "cell_type": "markdown",
   "metadata": {},
   "source": [
    "# Test and Benchmarking"
   ]
  },
  {
   "cell_type": "markdown",
   "metadata": {},
   "source": [
    "Here we load data sets from Twitter, WikiVote, HEP-PH, and Epinions to benchmark the algorithms and compare them with the results produced in the paper by Mohammedi et al. We expect that there will be a curvature to the shape of the graphs which suggests submodularity. "
   ]
  },
  {
   "cell_type": "code",
   "execution_count": 66,
   "metadata": {},
   "outputs": [],
   "source": [
    "import re\n",
    "def initialiseGraph(numNodes, path):\n",
    "    f = open(\"Datasets/wiki-Vote.txt\", \"r\")\n",
    "    g = snap.TUNGraph.New()\n",
    "    \n",
    "    #adding nodes\n",
    "    for i in range(numNodes):\n",
    "        g.AddNode(i+1)\n",
    "    \n",
    "    #adding edges\n",
    "    i = 0 \n",
    "    for row in f:\n",
    "        if i>4:\n",
    "            x = re.search(\"(^\\d+)\\s+(\\d+)$\", row)\n",
    "            g.AddEdge(int(x.group(1)), int(x.group(2)))\n",
    "        i+=1\n",
    "    return g"
   ]
  },
  {
   "cell_type": "code",
   "execution_count": 67,
   "metadata": {},
   "outputs": [],
   "source": [
    "epinions = initialiseGraph(75879, \"Datasets/soc-Epinions1.txt\")\n",
    "wikivote = initialiseGraph(8297, \"Datasets/wiki-Vote.txt\")\n",
    "hepph = initialiseGraph(34546, \"Datasets/cit-HepPh.txt\")"
   ]
  },
  {
   "cell_type": "code",
   "execution_count": 78,
   "metadata": {},
   "outputs": [],
   "source": [
    "arrayic = [greedy, celf, celfPlus, degree, tournamentSelection, stochasticSampling]\n",
    "arraylt = [greedylt, celflt, celfPluslt, degreelt, tournamentSelectionlt, stochasticSamplinglt]\n",
    "\n",
    "datasets = [\"wikivote\", \"hepph\", \"epinions\"]"
   ]
  },
  {
   "cell_type": "markdown",
   "metadata": {},
   "source": [
    "### Testing IC"
   ]
  },
  {
   "cell_type": "code",
   "execution_count": 81,
   "metadata": {},
   "outputs": [],
   "source": [
    "def pvseedSetic(method, graph, p=0.5):\n",
    "    runningTime = []\n",
    "    pV = []\n",
    "    i = 10\n",
    "    \n",
    "    while i < 20:\n",
    "        start = time.time()\n",
    "        result = method(graph, i, p, 1)\n",
    "        end = time.time()\n",
    "        pVSim = lt(graph, result[0], p, 10)\n",
    "        pV.append((i, pVSim))\n",
    "        runningTime.append((i, end-start))\n",
    "        i+=10\n",
    "    \n",
    "    return (runningTime, pV)"
   ]
  },
  {
   "cell_type": "code",
   "execution_count": 82,
   "metadata": {},
   "outputs": [
    {
     "name": "stdout",
     "output_type": "stream",
     "text": [
      "[2775]\n"
     ]
    },
    {
     "ename": "KeyboardInterrupt",
     "evalue": "",
     "output_type": "error",
     "traceback": [
      "\u001b[0;31m---------------------------------------------------------------------------\u001b[0m",
      "\u001b[0;31mKeyboardInterrupt\u001b[0m                         Traceback (most recent call last)",
      "\u001b[0;32m<ipython-input-82-b80e437d9d48>\u001b[0m in \u001b[0;36m<module>\u001b[0;34m\u001b[0m\n\u001b[1;32m      1\u001b[0m \u001b[0mresultsic\u001b[0m \u001b[0;34m=\u001b[0m \u001b[0;34m[\u001b[0m\u001b[0;34m]\u001b[0m\u001b[0;34m\u001b[0m\u001b[0m\n\u001b[1;32m      2\u001b[0m \u001b[0;32mfor\u001b[0m \u001b[0mmethod\u001b[0m \u001b[0;32min\u001b[0m \u001b[0marrayic\u001b[0m\u001b[0;34m:\u001b[0m\u001b[0;34m\u001b[0m\u001b[0m\n\u001b[0;32m----> 3\u001b[0;31m     \u001b[0mresultsic\u001b[0m\u001b[0;34m.\u001b[0m\u001b[0mappend\u001b[0m\u001b[0;34m(\u001b[0m\u001b[0mpvseedSetic\u001b[0m\u001b[0;34m(\u001b[0m\u001b[0mmethod\u001b[0m\u001b[0;34m,\u001b[0m \u001b[0mwikivote\u001b[0m\u001b[0;34m,\u001b[0m \u001b[0;36m0.025\u001b[0m\u001b[0;34m)\u001b[0m\u001b[0;34m,\u001b[0m \u001b[0;34m\"wikivote\"\u001b[0m\u001b[0;34m)\u001b[0m\u001b[0;34m\u001b[0m\u001b[0m\n\u001b[0m",
      "\u001b[0;32m<ipython-input-81-de0c38102b19>\u001b[0m in \u001b[0;36mpvseedSetic\u001b[0;34m(method, graph, p)\u001b[0m\n\u001b[1;32m      6\u001b[0m     \u001b[0;32mwhile\u001b[0m \u001b[0mi\u001b[0m \u001b[0;34m<\u001b[0m \u001b[0;36m20\u001b[0m\u001b[0;34m:\u001b[0m\u001b[0;34m\u001b[0m\u001b[0m\n\u001b[1;32m      7\u001b[0m         \u001b[0mstart\u001b[0m \u001b[0;34m=\u001b[0m \u001b[0mtime\u001b[0m\u001b[0;34m.\u001b[0m\u001b[0mtime\u001b[0m\u001b[0;34m(\u001b[0m\u001b[0;34m)\u001b[0m\u001b[0;34m\u001b[0m\u001b[0m\n\u001b[0;32m----> 8\u001b[0;31m         \u001b[0mresult\u001b[0m \u001b[0;34m=\u001b[0m \u001b[0mmethod\u001b[0m\u001b[0;34m(\u001b[0m\u001b[0mgraph\u001b[0m\u001b[0;34m,\u001b[0m \u001b[0mi\u001b[0m\u001b[0;34m,\u001b[0m \u001b[0mp\u001b[0m\u001b[0;34m,\u001b[0m \u001b[0;36m1\u001b[0m\u001b[0;34m)\u001b[0m\u001b[0;34m\u001b[0m\u001b[0m\n\u001b[0m\u001b[1;32m      9\u001b[0m         \u001b[0mend\u001b[0m \u001b[0;34m=\u001b[0m \u001b[0mtime\u001b[0m\u001b[0;34m.\u001b[0m\u001b[0mtime\u001b[0m\u001b[0;34m(\u001b[0m\u001b[0;34m)\u001b[0m\u001b[0;34m\u001b[0m\u001b[0m\n\u001b[1;32m     10\u001b[0m         \u001b[0mpVSim\u001b[0m \u001b[0;34m=\u001b[0m \u001b[0mlt\u001b[0m\u001b[0;34m(\u001b[0m\u001b[0mgraph\u001b[0m\u001b[0;34m,\u001b[0m \u001b[0mresult\u001b[0m\u001b[0;34m[\u001b[0m\u001b[0;36m0\u001b[0m\u001b[0;34m]\u001b[0m\u001b[0;34m,\u001b[0m \u001b[0mp\u001b[0m\u001b[0;34m,\u001b[0m \u001b[0;36m10\u001b[0m\u001b[0;34m)\u001b[0m\u001b[0;34m\u001b[0m\u001b[0m\n",
      "\u001b[0;32m<ipython-input-7-c29ee39e2048>\u001b[0m in \u001b[0;36mgreedy\u001b[0;34m(g, k, p, mc)\u001b[0m\n\u001b[1;32m     17\u001b[0m \u001b[0;34m\u001b[0m\u001b[0m\n\u001b[1;32m     18\u001b[0m             \u001b[0;31m# get propogation value\u001b[0m\u001b[0;34m\u001b[0m\u001b[0;34m\u001b[0m\u001b[0m\n\u001b[0;32m---> 19\u001b[0;31m             \u001b[0mpv\u001b[0m \u001b[0;34m=\u001b[0m \u001b[0mic\u001b[0m\u001b[0;34m(\u001b[0m\u001b[0mg\u001b[0m\u001b[0;34m,\u001b[0m \u001b[0mseedSet\u001b[0m \u001b[0;34m+\u001b[0m \u001b[0;34m[\u001b[0m\u001b[0mnode\u001b[0m\u001b[0;34m.\u001b[0m\u001b[0mGetId\u001b[0m\u001b[0;34m(\u001b[0m\u001b[0;34m)\u001b[0m\u001b[0;34m]\u001b[0m\u001b[0;34m,\u001b[0m \u001b[0mp\u001b[0m\u001b[0;34m,\u001b[0m \u001b[0mmc\u001b[0m\u001b[0;34m)\u001b[0m\u001b[0;34m\u001b[0m\u001b[0m\n\u001b[0m\u001b[1;32m     20\u001b[0m \u001b[0;34m\u001b[0m\u001b[0m\n\u001b[1;32m     21\u001b[0m             \u001b[0;32mif\u001b[0m \u001b[0mpv\u001b[0m \u001b[0;34m>\u001b[0m \u001b[0mbestPv\u001b[0m\u001b[0;34m:\u001b[0m\u001b[0;34m\u001b[0m\u001b[0m\n",
      "\u001b[0;32m<ipython-input-5-e60cceea812c>\u001b[0m in \u001b[0;36mic\u001b[0;34m(g, s, p, mc)\u001b[0m\n\u001b[1;32m     26\u001b[0m                 \u001b[0mnode\u001b[0m \u001b[0;34m=\u001b[0m \u001b[0mg\u001b[0m\u001b[0;34m.\u001b[0m\u001b[0mGetNI\u001b[0m\u001b[0;34m(\u001b[0m\u001b[0mint\u001b[0m\u001b[0;34m(\u001b[0m\u001b[0mn\u001b[0m\u001b[0;34m)\u001b[0m\u001b[0;34m)\u001b[0m\u001b[0;34m\u001b[0m\u001b[0m\n\u001b[1;32m     27\u001b[0m \u001b[0;34m\u001b[0m\u001b[0m\n\u001b[0;32m---> 28\u001b[0;31m                 \u001b[0;32mfor\u001b[0m \u001b[0mneighbor\u001b[0m \u001b[0;32min\u001b[0m \u001b[0mnode\u001b[0m\u001b[0;34m.\u001b[0m\u001b[0mGetOutEdges\u001b[0m\u001b[0;34m(\u001b[0m\u001b[0;34m)\u001b[0m\u001b[0;34m:\u001b[0m\u001b[0;34m\u001b[0m\u001b[0m\n\u001b[0m\u001b[1;32m     29\u001b[0m                     \u001b[0;31m#thresholds.append(g.GetFltAttrDatN(neighbor, \"threshold\"))\u001b[0m\u001b[0;34m\u001b[0m\u001b[0;34m\u001b[0m\u001b[0m\n\u001b[1;32m     30\u001b[0m                     \u001b[0mneighbors\u001b[0m\u001b[0;34m.\u001b[0m\u001b[0mappend\u001b[0m\u001b[0;34m(\u001b[0m\u001b[0mneighbor\u001b[0m\u001b[0;34m)\u001b[0m\u001b[0;34m\u001b[0m\u001b[0m\n",
      "\u001b[0;32m/usr/local/lib/python3.7/site-packages/snap.py\u001b[0m in \u001b[0;36mGetOutEdges\u001b[0;34m(self)\u001b[0m\n\u001b[1;32m 254695\u001b[0m \u001b[0;32mdef\u001b[0m \u001b[0mGetOutEdges\u001b[0m\u001b[0;34m(\u001b[0m\u001b[0mself\u001b[0m\u001b[0;34m)\u001b[0m\u001b[0;34m:\u001b[0m\u001b[0;34m\u001b[0m\u001b[0m\n\u001b[1;32m 254696\u001b[0m     \u001b[0;32mfor\u001b[0m \u001b[0me\u001b[0m \u001b[0;32min\u001b[0m \u001b[0mrange\u001b[0m\u001b[0;34m(\u001b[0m\u001b[0;36m0\u001b[0m\u001b[0;34m,\u001b[0m \u001b[0mself\u001b[0m\u001b[0;34m.\u001b[0m\u001b[0mGetOutDeg\u001b[0m\u001b[0;34m(\u001b[0m\u001b[0;34m)\u001b[0m\u001b[0;34m)\u001b[0m\u001b[0;34m:\u001b[0m\u001b[0;34m\u001b[0m\u001b[0m\n\u001b[0;32m>254697\u001b[0;31m         \u001b[0;32myield\u001b[0m \u001b[0mself\u001b[0m\u001b[0;34m.\u001b[0m\u001b[0mGetOutNId\u001b[0m\u001b[0;34m(\u001b[0m\u001b[0me\u001b[0m\u001b[0;34m)\u001b[0m\u001b[0;34m\u001b[0m\u001b[0m\n\u001b[0m\u001b[1;32m 254698\u001b[0m \u001b[0;34m\u001b[0m\u001b[0m\n\u001b[1;32m 254699\u001b[0m \u001b[0;31m# iterate through in edges of a node\u001b[0m\u001b[0;34m\u001b[0m\u001b[0;34m\u001b[0m\u001b[0m\n",
      "\u001b[0;31mKeyboardInterrupt\u001b[0m: "
     ]
    }
   ],
   "source": [
    "resultsic = []\n",
    "for method in arrayic:\n",
    "    resultsic.append(pvseedSetic(method, wikivote, 0.025), \"wikivote\")"
   ]
  },
  {
   "cell_type": "code",
   "execution_count": null,
   "metadata": {},
   "outputs": [],
   "source": [
    "resultsic = []\n",
    "for method in arrayic:\n",
    "    for dataset in datasets\n",
    "        resultsic.append(pvseedSetic(method, dataset, 0.025), dataset)\n",
    "\n",
    "# test this before running the cell\n",
    "# with open(\"outputIC.txt\", \"w\") as txt_file:\n",
    "#     for line in resultsic:\n",
    "#         txt_file.write(\" \".join(line) + \"\\n\")"
   ]
  },
  {
   "cell_type": "markdown",
   "metadata": {},
   "source": [
    "### Testing lt"
   ]
  },
  {
   "cell_type": "code",
   "execution_count": null,
   "metadata": {},
   "outputs": [],
   "source": [
    "def pvseedSetlt(method, graph):\n",
    "    runningTime = []\n",
    "    pV = []\n",
    "    i = 10\n",
    "    \n",
    "    while i < 50:\n",
    "        start = time.time()\n",
    "        result = method(graph, i, 1)\n",
    "        end = time.time()\n",
    "        pVSim = lt(graph, result[0], 1000)\n",
    "        pV.append((i, pVSim))\n",
    "        runningTime.append((i, end-start))\n",
    "        i+=10\n",
    "    \n",
    "    return (runningTime, pV)"
   ]
  },
  {
   "cell_type": "code",
   "execution_count": null,
   "metadata": {},
   "outputs": [],
   "source": [
    "resultslt = []\n",
    "for method in arraylt:\n",
    "    for dataset in datasets:\n",
    "        resultslt.append(pvseedSetlt(greedy, dataset), dataset)"
   ]
  }
 ],
 "metadata": {
  "kernelspec": {
   "display_name": "Python 3",
   "language": "python",
   "name": "python3"
  },
  "language_info": {
   "codemirror_mode": {
    "name": "ipython",
    "version": 3
   },
   "file_extension": ".py",
   "mimetype": "text/x-python",
   "name": "python",
   "nbconvert_exporter": "python",
   "pygments_lexer": "ipython3",
   "version": "3.7.0"
  }
 },
 "nbformat": 4,
 "nbformat_minor": 4
}
