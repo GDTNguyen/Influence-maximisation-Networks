{
 "cells": [
  {
   "cell_type": "markdown",
   "metadata": {},
   "source": [
    "# Influence Maximisation Problem with time and random delays\n",
    "\n",
    "This is the issue of maximising value in a netowork by selecting nodes that are most likely to yield the highest value. In this notebook we will implement some well studied models and extend them to account for time delays. We will design heuristic and greedy strategies to tackle the influence maximisation problem and analyse performance of the algorithms."
   ]
  },
  {
   "cell_type": "markdown",
   "metadata": {},
   "source": [
    "## Jargon: understanding vocabulary"
   ]
  },
  {
   "cell_type": "markdown",
   "metadata": {},
   "source": [
    "Here we put some vocabulary we might need in order to understand and tackle the problem.\n",
    "\n",
    "* **States** is how we represent the node, 0 is inactive, -1 latent active, and 1 is active.\n",
    "* **Propogation value** PV(S) is the expected value of activated nodes in a seed set, S.\n",
    "* **Seed set** is the set of nodes that contain the solution.\n",
    "* **k seeds** is the number of initial set of nodes before starting influence maximisation.\n",
    "* **Freashness function** is a function to determine the value of a node with respect to the time till activation.\n",
    "* **Freashness value** is the actual value of the node.\n"
   ]
  },
  {
   "cell_type": "markdown",
   "metadata": {},
   "source": [
    "## Generate a graph\n",
    "\n",
    "A model where the sum of influence will determine whether a node becomes active. The influence must exceed the threshold of a node. Each edge and node has a random value assigned to it between 0 and 1 when a new instance is generated."
   ]
  },
  {
   "cell_type": "code",
   "execution_count": 1,
   "metadata": {},
   "outputs": [],
   "source": [
    "import snap\n",
    "import networkx as nx\n",
    "%matplotlib inline\n",
    "import matplotlib.pyplot as plt\n",
    "import random\n",
    "import time\n",
    "import itertools\n",
    "import urllib\n",
    "import csv\n",
    "import functools\n",
    "import numpy as np\n",
    "import heapq as h\n",
    "import re\n",
    "from statistics import mean, stdev"
   ]
  },
  {
   "cell_type": "markdown",
   "metadata": {},
   "source": [
    "gen_graph uses seeds. A seed is a feature of python that allows us to generate random values associated to nodes and edges when we need them. If we want to reference a graph generated in the past we just input the seed that was used."
   ]
  },
  {
   "cell_type": "code",
   "execution_count": 2,
   "metadata": {},
   "outputs": [],
   "source": [
    "def gen_graph(size, seed=42):\n",
    "    \"\"\"generates a network, each value assigned to the node and edge is random float between 0 and 1\"\"\"\n",
    "    random.seed(seed*size)\n",
    "    G = snap.GenRndGnm(snap.PNEANet, size, random.randrange(size*2, (size*(size - 1)/2)/2))\n",
    "    \n",
    "    # define float and str attributes on nodes\n",
    "    G.AddFltAttrN(\"NValFlt\", 0.0)\n",
    "    G.AddStrAttrN(\"NValStr\", \"0\")\n",
    "\n",
    "    # define an int attribute on edges\n",
    "    G.AddFltAttrE(\"EValFlt\", 0)\n",
    "\n",
    "    # add attribute values, node ID for nodes, edge ID for edges\n",
    "    for NI in G.Nodes():\n",
    "        nid = NI.GetId()\n",
    "        val = nid\n",
    "        G.AddFltAttrDatN(nid, random.random(), \"NValFlt\")\n",
    "        G.AddStrAttrDatN(nid, str(val), \"NValStr\")\n",
    "        G.AddIntAttrDatN(nid, 0, \"State\")\n",
    "\n",
    "        for nid1 in NI.GetOutEdges():\n",
    "            eid = G.GetEId(nid,nid1)\n",
    "            val = eid\n",
    "            G.AddFltAttrDatE(eid, random.random(), \"EValFlt\")\n",
    "\n",
    "    # print out attribute values\n",
    "#     for n in G.Nodes():\n",
    "#         nid = n.GetId()\n",
    "#         fval = G.GetFltAttrDatN(nid, \"NValFlt\")\n",
    "#         sval = G.GetStrAttrDatN(nid, \"NValStr\")\n",
    "        \n",
    "#         print(\"node %d, NValFlt %.2f, NValStr %s\" % (nid, fval, sval))\n",
    "\n",
    "#         for nid2 in n.GetOutEdges():\n",
    "#             eid = G.GetEId(nid, nid2)\n",
    "#             val1 = G.GetFltAttrDatE(eid, \"EValFlt\")\n",
    "#             print(\"edge %d (%d,%d), EValFlt %f\" % (eid, nid, nid2, val1))\n",
    "            \n",
    "    return G"
   ]
  },
  {
   "cell_type": "code",
   "execution_count": 3,
   "metadata": {},
   "outputs": [],
   "source": [
    "def node_states(g, attr, size):\n",
    "    \"\"\"A method iterating through the network using an iterator to check the states of each node.\"\"\"\n",
    "    iterator = g.BegNI()\n",
    "    print(\"NId %d has the following state %d\" % (iterator.GetId() ,g.GetIntAttrDatN(iterator.GetId(), attr)))\n",
    "    for i in range(0, size):\n",
    "        temp = iterator.Next()\n",
    "        if temp != g.EndNI():\n",
    "            NId = temp.GetId()\n",
    "            print(\"NId %d has the following state %d\" % (NId ,g.GetIntAttrDatN(NId, attr)))\n",
    "        else:\n",
    "            break\n",
    "        "
   ]
  },
  {
   "cell_type": "code",
   "execution_count": null,
   "metadata": {},
   "outputs": [],
   "source": [
    "graph1 = gen_graph(10, 14)\n",
    "node_states(graph1, \"State\", graph1.GetNodes())"
   ]
  },
  {
   "cell_type": "markdown",
   "metadata": {},
   "source": [
    "## Linear Threshold\n",
    "\n",
    "This is the case of where the ff(t) = 1. The freshness function can be any positive decreasing function for example, exponential, polynomial or piecewise linear function. fval(v)=ff(v.acttime) the value of a node is calculated by input of the activation time in the freshness function."
   ]
  },
  {
   "cell_type": "code",
   "execution_count": 4,
   "metadata": {},
   "outputs": [],
   "source": [
    "def edit_nodestate(graph, NId, attr, val):\n",
    "    \"\"\"changes the state of a specific node in the network\"\"\"\n",
    "    graph.DelAttrDatN(NId, attr)\n",
    "    graph.AddIntAttrDatN(NId, val, attr)\n",
    "    \n",
    "    return graph"
   ]
  },
  {
   "cell_type": "code",
   "execution_count": 5,
   "metadata": {},
   "outputs": [],
   "source": [
    "def lt_prop(g, k):\n",
    "    \"\"\"simple propogation in a linear threshold way with k = 1 and ff(t) = 1\"\"\"\n",
    "    s = list()\n",
    "    \n",
    "    #check to see if propogation already carried out\n",
    "    for n in g.Nodes():\n",
    "        if g.GetIntAttrDatN(n.GetId(), \"State\") == 1:\n",
    "            return print(\"Influence propogation has been carried out, please re-generate graph. \\n\")\n",
    "    \n",
    "    # select k random nodes\n",
    "    for i in range(0,k):\n",
    "        initial = g.GetRndNId()\n",
    "        while initial in s:\n",
    "            initial = g.GetRndNId()\n",
    "        g = edit_nodestate(g, initial, \"State\", 1)\n",
    "        s.append(initial)\n",
    "    \n",
    "    # adds nodes to s that exceed thresholds in lt\n",
    "    sizeS = len(s)\n",
    "    while True:\n",
    "        for n in g.Nodes():\n",
    "            nid = n.GetId()\n",
    "            if g.GetIntAttrDatN(nid, \"State\") == 0:\n",
    "                theta = g.GetFltAttrDatN(nid, \"NValFlt\")\n",
    "                influence = 0\n",
    "                for nid2 in n.GetOutEdges():\n",
    "                    if g.GetIntAttrDatN(nid2, \"State\") != 0:\n",
    "                        eid = g.GetEId(nid, nid2)\n",
    "                        influence += g.GetFltAttrDatE(eid, \"EValFlt\")\n",
    "\n",
    "                if influence >= theta:\n",
    "                    edit_nodestate(g, nid, \"State\", 1)\n",
    "                    s.append(nid)\n",
    "\n",
    "        # if no further changes to number of nodes close\n",
    "        if sizeS != len(s) and len(s) <= g.GetNodes():\n",
    "            sizeS = len(s)\n",
    "        else:\n",
    "            break\n",
    "    \n",
    "    # check the proportion of nodes that are activated\n",
    "    print(\"Proportion of nodes influenced %0.0f%% \\n\" % ((sizeS/g.GetNodes())*100))"
   ]
  },
  {
   "cell_type": "code",
   "execution_count": null,
   "metadata": {},
   "outputs": [],
   "source": [
    "graph2 = gen_graph(100, 10)"
   ]
  },
  {
   "cell_type": "code",
   "execution_count": null,
   "metadata": {},
   "outputs": [],
   "source": [
    "lt_prop(graph2, 1)\n",
    "node_states(graph2, \"State\", graph2.GetNodes())"
   ]
  },
  {
   "cell_type": "markdown",
   "metadata": {},
   "source": [
    "## Independent Cascade"
   ]
  },
  {
   "cell_type": "code",
   "execution_count": 6,
   "metadata": {},
   "outputs": [],
   "source": [
    "def ic_prop(g, k):\n",
    "    \"\"\"simple propogation in an independent casecade way with k = 1 and ff(t) = 1\"\"\"\n",
    "    s = list()\n",
    "    \n",
    "    #check to see if propogation already carried out\n",
    "    for n in g.Nodes():\n",
    "        if g.GetIntAttrDatN(n.GetId(), \"State\") == 1:\n",
    "            return print(\"Influence propogation has been carried out, please re-generate graph. \\n\")\n",
    "        \n",
    "    # select k random nodes\n",
    "    for i in range(0,k):\n",
    "        initial = g.GetRndNId()\n",
    "        while initial in s:\n",
    "            initial = g.GetRndNId()\n",
    "        g = edit_nodestate(g, initial, \"State\", 1)\n",
    "        s.append(initial)\n",
    "    \n",
    "    # start propogation, add a value to check if the node has tried to activate its neighbours(independent)\n",
    "    sizeS = len(s)\n",
    "    while True:\n",
    "        for n in g.Nodes():\n",
    "            nid = n.GetId()\n",
    "            if g.GetIntAttrDatN(nid, \"State\") == 1:\n",
    "                for nid2 in n.GetOutEdges():\n",
    "                    eid = g.GetEId(nid, nid2)\n",
    "                    theta = g.GetFltAttrDatN(nid2, \"NValFlt\")\n",
    "                    if g.GetFltAttrDatE(eid, \"EValFlt\") >= theta and nid2 not in s:\n",
    "                        edit_nodestate(g, nid2, \"State\", 1)\n",
    "                        s.append(nid2)\n",
    "        \n",
    "        if sizeS != len(s) and len(s) <= g.GetNodes():\n",
    "            sizeS = len(s)\n",
    "        else:\n",
    "            break\n",
    "    \n",
    "    # check the proportion of nodes that are activated\n",
    "    print(\"Proportion of nodes influenced %0.0f%% \\n\" % ((sizeS/g.GetNodes())*100))                 "
   ]
  },
  {
   "cell_type": "code",
   "execution_count": null,
   "metadata": {},
   "outputs": [],
   "source": [
    "graph3 = gen_graph(200, 12)"
   ]
  },
  {
   "cell_type": "code",
   "execution_count": null,
   "metadata": {},
   "outputs": [],
   "source": [
    "ic_prop(graph3, 1)\n",
    "node_states(graph3, \"State\", graph3.GetNodes())"
   ]
  },
  {
   "cell_type": "markdown",
   "metadata": {},
   "source": [
    "## Time sensitive influence maximisation\n",
    "\n",
    "We need to incorporate more information into the network in order to account for time. Firstly, each node will have three states, for 0 for inactive, 1 for latent , and 2 for active state. Once a node has been triggered to be active it goes into a latent active state, and will activate in (t+d) steps."
   ]
  },
  {
   "cell_type": "code",
   "execution_count": 276,
   "metadata": {},
   "outputs": [],
   "source": [
    "def gen_ts_graph(size, seed=42, pr=1):\n",
    "    \"\"\"creates a network with time delay on edges, and the capability to add three states.\"\"\"\n",
    "    random.seed(seed*size)\n",
    "    G = snap.GenRndGnm(snap.PNEANet, size, random.randrange(size*2, (size*(size - 1)/4)))\n",
    "    \n",
    "    # define float and str attributes on nodes\n",
    "    G.AddFltAttrN(\"NValFlt\", 0.0)\n",
    "    G.AddStrAttrN(\"NValStr\", \"0\")\n",
    "    \n",
    "    # define an flt attribute on edges\n",
    "    G.AddFltAttrE(\"EValFlt\", 0)\n",
    "\n",
    "    # add attribute values, node ID for nodes, edge ID for edges\n",
    "    for NI in G.Nodes():\n",
    "        nid = NI.GetId()\n",
    "        val = nid\n",
    "        G.AddFltAttrDatN(nid, random.random(), \"NValFlt\")\n",
    "        G.AddStrAttrDatN(nid, str(val), \"NValStr\")\n",
    "        G.AddIntAttrDatN(nid, 0, \"State\")\n",
    "        G.AddIntAttrDatN(nid, 0, \"activationTime\")\n",
    "        G.AddIntAttrDatN(nid, random.randrange(0, 20), \"delay\")\n",
    "\n",
    "        for nid1 in NI.GetOutEdges():\n",
    "            eid = G.GetEId(nid,nid1)\n",
    "            val = eid\n",
    "            G.AddFltAttrDatE(eid, random.random(), \"EValFlt\")\n",
    "\n",
    "    if pr:\n",
    "        print(\"Graph successfully generated! \\n\")\n",
    "            \n",
    "    return G"
   ]
  },
  {
   "cell_type": "code",
   "execution_count": null,
   "metadata": {},
   "outputs": [],
   "source": [
    "graph4 = gen_ts_graph(8000, 20)"
   ]
  },
  {
   "cell_type": "markdown",
   "metadata": {},
   "source": [
    "## Delayed Linear Threshold"
   ]
  },
  {
   "cell_type": "markdown",
   "metadata": {},
   "source": [
    "The solution to the influence maximisation problem will be deterministic for the Linear threshold model. If we start at the same initial node it will give us the same solution each time. We can do a greedy or approximate approach to solve the problem for linear threshold. In the greedy approach we need to evaluate the value of a node when we add it to the solution, we determine the value using the freshness function.\n",
    "\n",
    "In the greedy algorithm, we find k initial nodes. Once we have k nodes in our set, we start propogation; propogation ends if there are no more nodes in the latent activate state and the set of nodes activated in the **current step** is empty. If the propogation value is 0 at step t then we do not need to continue propogation. \n",
    "\n",
    "\n"
   ]
  },
  {
   "cell_type": "code",
   "execution_count": 274,
   "metadata": {},
   "outputs": [],
   "source": [
    "def exponential(x):\n",
    "    if x >= 0:\n",
    "        return (np.exp(1)**-(x*0.2))\n",
    "    else:\n",
    "        return print(\"Enter a value greater than or equal to 0\")\n",
    "\n",
    "def polynomial(x):\n",
    "    if x >= 1:\n",
    "        return 1/x\n",
    "    else:\n",
    "        return print(\"Enter a value greater than or equal to 1\")\n",
    "    \n",
    "def piecewiselinear(x):\n",
    "    if x >= 5 and x <= 30:\n",
    "        return -x + 30\n",
    "    elif x > 30 and x <= 40:\n",
    "        return -0.5 * x + 20\n",
    "    else:\n",
    "        return print(\"Enter a value between 5 and 30\")"
   ]
  },
  {
   "cell_type": "code",
   "execution_count": 278,
   "metadata": {},
   "outputs": [],
   "source": [
    "import time\n",
    "\n",
    "def im_g_lt(g, k, seed=42):\n",
    "    # (activation time, latent activation, {node id, threshold})\n",
    "    random.seed(seed*k)\n",
    "    \n",
    "    #check to see if k is larger than g\n",
    "    if k >= g.GetNodes():\n",
    "        return print(\"Pick a k value less than %d\" % (g.GetNodes()))\n",
    "    \n",
    "    # nodes in latent active state 'aCurr' and nodes activated 'aT'  \n",
    "    aCurr = []\n",
    "    aT = []\n",
    "    h.heapify(aCurr)\n",
    "    h.heapify(aT)\n",
    "    \n",
    "    # select 1 initial node\n",
    "    initial = random.randrange(0, g.GetNodes())\n",
    "    h.heappush(aT, (0, 0, initial))\n",
    "    \n",
    "    # add initial nodes to aCurr\n",
    "    initialNode = g.GetNI(initial)\n",
    "    for n in initialNode.GetOutEdges():\n",
    "        str1 = ''.join(str(e) for e in aCurr)\n",
    "        if not re.findall(\"\\(\\d+\\,\\s\\d+\\,\\s\" + str(n) + \"\\)\", str1):        \n",
    "            eid = g.GetEId(initial, n)\n",
    "            threshold = g.GetFltAttrDatN(n, \"NValFlt\")\n",
    "            if g.GetFltAttrDatE(eid, \"EValFlt\") > threshold:\n",
    "                h.heappush(aCurr, (g.GetIntAttrDatN(n, \"delay\"), 0, n))\n",
    "        \n",
    "    # Select k nodes\n",
    "    timeStep = 0\n",
    "    candidates = []\n",
    "    h.heapify(candidates)\n",
    "    \n",
    "    \n",
    "    for i in range(0, k - 1):\n",
    "        # put things in latent active state: BFS\n",
    "        queue = []\n",
    "        queue.append(aT[0])\n",
    "        lockTime = False\n",
    "        \n",
    "        while aCurr:\n",
    "            timeStep += 1\n",
    "            \n",
    "            while queue:\n",
    "                if lockTime:\n",
    "                    break\n",
    "                \n",
    "                str1 = ''.join(str(e) for e in aCurr)\n",
    "                str2 = ''.join(str(e) for e in aT)\n",
    "                v = queue.pop()\n",
    "                node = g.GetNI(v[2])\n",
    "                for nid2 in node.GetOutEdges():\n",
    "                    if re.findall(\"\\(\\d+\\,\\s\\d+\\,\\s\" + str(nid2) + \"\\)\", str2):\n",
    "                        queue.append((g.GetIntAttrDatN(nid2, \"delay\") + timeStep ,timeStep ,nid2))\n",
    "                    elif not re.findall(\"\\(\\d+\\,\\s\\d+\\,\\s\" + str(nid2) + \"\\)\", str1):\n",
    "                        threshold = g.GetFltAttrDatN(nid2, \"NValFlt\")\n",
    "                        influence = 0\n",
    "                        for nid3 in g.GetNI(nid2).GetOutEdges():\n",
    "                            eid = g.GetEId(nid2, nid3)\n",
    "                            if re.findall(\"\\(\\d+\\,\\s\\d+\\,\\s\" + str(nid3) + \"\\)\", str2):\n",
    "                                influence += g.GetFltAttrDatE(eid, \"EValFlt\")\n",
    "                                if influence >= threshold:\n",
    "                                    h.heappush(aCurr, (g.GetIntAttrDatN(nid2, \"delay\") + timeStep, timeStep, nid2))\n",
    "                                    break\n",
    "                lockTime = True\n",
    "            \n",
    "            # get candidates that have activated from latent state\n",
    "            if aCurr and aCurr[0][0] <= timeStep:\n",
    "                while True:\n",
    "                    if aCurr and aCurr[0][0] <= timeStep:\n",
    "                        tempVar = h.heappop(aCurr)\n",
    "                        h.heappush(candidates, tempVar)\n",
    "                        lockTime = False\n",
    "                    else:\n",
    "                        break\n",
    "                break\n",
    "            else:\n",
    "                if candidates:\n",
    "                    break\n",
    "                    \n",
    "        # the largest pv will have the smallest activation time assuming exp function\n",
    "        if candidates:\n",
    "            node = h.heappop(candidates)\n",
    "            h.heappush(aT, node)\n",
    "    \n",
    "    return aT"
   ]
  },
  {
   "cell_type": "markdown",
   "metadata": {},
   "source": [
    "prop_lt is a method that activates the initial set of nodes and propogates influence; the freshness function is returned after propogating has completed."
   ]
  },
  {
   "cell_type": "code",
   "execution_count": 267,
   "metadata": {},
   "outputs": [],
   "source": [
    "def prop_lt(g, initialSet):\n",
    "    \n",
    "    # nodes in latent active state 'aCurr' and nodes activated 'aT'  \n",
    "    aCurr = []\n",
    "    aT = []\n",
    "    h.heapify(aCurr)\n",
    "    h.heapify(aT)\n",
    "    \n",
    "    #activate the initial nodes\n",
    "    for item in initialSet:\n",
    "        h.heappush(aT, item)\n",
    "    \n",
    "    # start propogation again with the set of nodes activated\n",
    "    pV = 0\n",
    "    activatedNode = False\n",
    "    timeStep = 0\n",
    "    \n",
    "    # BFS\n",
    "    lockTime = False\n",
    "    iterationFirst = True\n",
    "\n",
    "    while aCurr or iterationFirst:\n",
    "        timeStep += 1\n",
    "        \n",
    "        # BFS starts\n",
    "        queue = []\n",
    "        queue.append(aT[0])\n",
    "        visited = []\n",
    "        \n",
    "        if not lockTime:\n",
    "            str1 = ''.join(str(e) for e in aCurr)\n",
    "            str2 = ''.join(str(e) for e in aT)\n",
    "            v = queue.pop()\n",
    "            node = g.GetNI(v[2])\n",
    "            for nid2 in node.GetOutEdges():\n",
    "                \n",
    "                cond1 = re.findall(\"\\(\\d+\\,\\s\\d+\\,\\s\" + str(nid2) + \"\\)\", str2)\n",
    "                cond2 = re.findall(\"\\(\\d+\\,\\s\\d+\\,\\s\" + str(nid2) + \"\\)\", str1)\n",
    "                \n",
    "                if not nid2 in visited:\n",
    "                    if len(cond1):\n",
    "                        queue.append((g.GetIntAttrDatN(nid2, \"delay\") + timeStep ,timeStep ,nid2))\n",
    "                    elif not len(cond1) and not len(cond2):\n",
    "                        threshold = g.GetFltAttrDatN(nid2, \"NValFlt\")\n",
    "                        influence = 0             \n",
    "                        for nid3 in g.GetNI(nid2).GetOutEdges():\n",
    "                            eid = g.GetEId(nid2, nid3)\n",
    "                            if re.findall(\"\\(\\d+\\,\\s\\d+\\,\\s\" + str(nid3) + \"\\)\", str2):\n",
    "                                influence += g.GetFltAttrDatE(eid, \"EValFlt\")\n",
    "                                if influence >= threshold:\n",
    "                                    h.heappush(aCurr, (g.GetIntAttrDatN(nid2, \"delay\") + timeStep, timeStep, nid2))\n",
    "                                    visited.append(nid2)\n",
    "                                    break\n",
    "            visited.append(v[2])\n",
    "        # BFS ends\n",
    "        \n",
    "        lockTime = True\n",
    "        iterationFirst = False\n",
    "        # get candidates that have activated from latent state\n",
    "        if aCurr and aCurr[0][0] <= timeStep:\n",
    "            while True:\n",
    "                if aCurr and aCurr[0][0] <= timeStep:\n",
    "                    tempVar = h.heappop(aCurr)\n",
    "                    h.heappush(aT, tempVar)\n",
    "                    lockTime = False\n",
    "\n",
    "                    # calculate the propogation value\n",
    "                    freshVal = exponential(tempVar[0])\n",
    "                    pV += freshVal\n",
    "                else:\n",
    "                    break\n",
    "    \n",
    "    print(\"Freshness value %f, number of nodes: %d\" % (pV, len(aT)))"
   ]
  },
  {
   "cell_type": "code",
   "execution_count": 279,
   "metadata": {},
   "outputs": [
    {
     "name": "stdout",
     "output_type": "stream",
     "text": [
      "Graph successfully generated! \n",
      "\n"
     ]
    }
   ],
   "source": [
    "graph5 = gen_ts_graph(1000, 20)"
   ]
  },
  {
   "cell_type": "code",
   "execution_count": 259,
   "metadata": {},
   "outputs": [],
   "source": [
    "initialNodes = im_g_lt(graph5, 10, 10)"
   ]
  },
  {
   "cell_type": "code",
   "execution_count": 268,
   "metadata": {},
   "outputs": [
    {
     "name": "stdout",
     "output_type": "stream",
     "text": [
      "Freshness value 0.315284, number of nodes: 121\n"
     ]
    }
   ],
   "source": [
    "prop_lt(graph5, initialNodes)"
   ]
  },
  {
   "cell_type": "code",
   "execution_count": 280,
   "metadata": {},
   "outputs": [
    {
     "name": "stdout",
     "output_type": "stream",
     "text": [
      "Freshness value 8.643720, number of nodes: 110\n",
      "IM with k = 5 nodes \n",
      "\n",
      "--------------------\n"
     ]
    },
    {
     "ename": "KeyboardInterrupt",
     "evalue": "",
     "output_type": "error",
     "traceback": [
      "\u001b[0;31m---------------------------------------------------------------------------\u001b[0m",
      "\u001b[0;31mKeyboardInterrupt\u001b[0m                         Traceback (most recent call last)",
      "\u001b[0;32m<ipython-input-280-362e85ad16b1>\u001b[0m in \u001b[0;36m<module>\u001b[0;34m\u001b[0m\n\u001b[1;32m      2\u001b[0m \u001b[0;32mfor\u001b[0m \u001b[0mi\u001b[0m \u001b[0;32min\u001b[0m \u001b[0mrange\u001b[0m\u001b[0;34m(\u001b[0m\u001b[0;36m0\u001b[0m\u001b[0;34m,\u001b[0m \u001b[0;36m7\u001b[0m\u001b[0;34m)\u001b[0m\u001b[0;34m:\u001b[0m\u001b[0;34m\u001b[0m\u001b[0m\n\u001b[1;32m      3\u001b[0m     \u001b[0minitialNodes\u001b[0m \u001b[0;34m=\u001b[0m \u001b[0mim_g_lt\u001b[0m\u001b[0;34m(\u001b[0m\u001b[0mgraph5\u001b[0m\u001b[0;34m,\u001b[0m \u001b[0;36m5\u001b[0m \u001b[0;34m+\u001b[0m \u001b[0mkNodes\u001b[0m\u001b[0;34m,\u001b[0m \u001b[0;36m3\u001b[0m\u001b[0;34m)\u001b[0m\u001b[0;34m\u001b[0m\u001b[0m\n\u001b[0;32m----> 4\u001b[0;31m     \u001b[0mprop_lt\u001b[0m\u001b[0;34m(\u001b[0m\u001b[0mgraph5\u001b[0m\u001b[0;34m,\u001b[0m \u001b[0minitialNodes\u001b[0m\u001b[0;34m)\u001b[0m\u001b[0;34m\u001b[0m\u001b[0m\n\u001b[0m\u001b[1;32m      5\u001b[0m     \u001b[0mprint\u001b[0m\u001b[0;34m(\u001b[0m\u001b[0;34m\"IM with k = %d nodes \\n\"\u001b[0m \u001b[0;34m%\u001b[0m \u001b[0;34m(\u001b[0m\u001b[0mkNodes\u001b[0m \u001b[0;34m+\u001b[0m \u001b[0;36m5\u001b[0m\u001b[0;34m)\u001b[0m\u001b[0;34m)\u001b[0m\u001b[0;34m\u001b[0m\u001b[0m\n\u001b[1;32m      6\u001b[0m     \u001b[0mprint\u001b[0m\u001b[0;34m(\u001b[0m\u001b[0;34m\"--------------------\"\u001b[0m\u001b[0;34m)\u001b[0m\u001b[0;34m\u001b[0m\u001b[0m\n",
      "\u001b[0;32m<ipython-input-267-5d04aee80c32>\u001b[0m in \u001b[0;36mprop_lt\u001b[0;34m(g, initialSet)\u001b[0m\n\u001b[1;32m     46\u001b[0m                         \u001b[0;32mfor\u001b[0m \u001b[0mnid3\u001b[0m \u001b[0;32min\u001b[0m \u001b[0mg\u001b[0m\u001b[0;34m.\u001b[0m\u001b[0mGetNI\u001b[0m\u001b[0;34m(\u001b[0m\u001b[0mnid2\u001b[0m\u001b[0;34m)\u001b[0m\u001b[0;34m.\u001b[0m\u001b[0mGetOutEdges\u001b[0m\u001b[0;34m(\u001b[0m\u001b[0;34m)\u001b[0m\u001b[0;34m:\u001b[0m\u001b[0;34m\u001b[0m\u001b[0m\n\u001b[1;32m     47\u001b[0m                             \u001b[0meid\u001b[0m \u001b[0;34m=\u001b[0m \u001b[0mg\u001b[0m\u001b[0;34m.\u001b[0m\u001b[0mGetEId\u001b[0m\u001b[0;34m(\u001b[0m\u001b[0mnid2\u001b[0m\u001b[0;34m,\u001b[0m \u001b[0mnid3\u001b[0m\u001b[0;34m)\u001b[0m\u001b[0;34m\u001b[0m\u001b[0m\n\u001b[0;32m---> 48\u001b[0;31m                             \u001b[0;32mif\u001b[0m \u001b[0mre\u001b[0m\u001b[0;34m.\u001b[0m\u001b[0mfindall\u001b[0m\u001b[0;34m(\u001b[0m\u001b[0;34m\"\\(\\d+\\,\\s\\d+\\,\\s\"\u001b[0m \u001b[0;34m+\u001b[0m \u001b[0mstr\u001b[0m\u001b[0;34m(\u001b[0m\u001b[0mnid3\u001b[0m\u001b[0;34m)\u001b[0m \u001b[0;34m+\u001b[0m \u001b[0;34m\"\\)\"\u001b[0m\u001b[0;34m,\u001b[0m \u001b[0mstr2\u001b[0m\u001b[0;34m)\u001b[0m\u001b[0;34m:\u001b[0m\u001b[0;34m\u001b[0m\u001b[0m\n\u001b[0m\u001b[1;32m     49\u001b[0m                                 \u001b[0minfluence\u001b[0m \u001b[0;34m+=\u001b[0m \u001b[0mg\u001b[0m\u001b[0;34m.\u001b[0m\u001b[0mGetFltAttrDatE\u001b[0m\u001b[0;34m(\u001b[0m\u001b[0meid\u001b[0m\u001b[0;34m,\u001b[0m \u001b[0;34m\"EValFlt\"\u001b[0m\u001b[0;34m)\u001b[0m\u001b[0;34m\u001b[0m\u001b[0m\n\u001b[1;32m     50\u001b[0m                                 \u001b[0;32mif\u001b[0m \u001b[0minfluence\u001b[0m \u001b[0;34m>=\u001b[0m \u001b[0mthreshold\u001b[0m\u001b[0;34m:\u001b[0m\u001b[0;34m\u001b[0m\u001b[0m\n",
      "\u001b[0;32m/usr/local/lib/python3.7/re.py\u001b[0m in \u001b[0;36mfindall\u001b[0;34m(pattern, string, flags)\u001b[0m\n\u001b[1;32m    221\u001b[0m \u001b[0;34m\u001b[0m\u001b[0m\n\u001b[1;32m    222\u001b[0m     Empty matches are included in the result.\"\"\"\n\u001b[0;32m--> 223\u001b[0;31m     \u001b[0;32mreturn\u001b[0m \u001b[0m_compile\u001b[0m\u001b[0;34m(\u001b[0m\u001b[0mpattern\u001b[0m\u001b[0;34m,\u001b[0m \u001b[0mflags\u001b[0m\u001b[0;34m)\u001b[0m\u001b[0;34m.\u001b[0m\u001b[0mfindall\u001b[0m\u001b[0;34m(\u001b[0m\u001b[0mstring\u001b[0m\u001b[0;34m)\u001b[0m\u001b[0;34m\u001b[0m\u001b[0m\n\u001b[0m\u001b[1;32m    224\u001b[0m \u001b[0;34m\u001b[0m\u001b[0m\n\u001b[1;32m    225\u001b[0m \u001b[0;32mdef\u001b[0m \u001b[0mfinditer\u001b[0m\u001b[0;34m(\u001b[0m\u001b[0mpattern\u001b[0m\u001b[0;34m,\u001b[0m \u001b[0mstring\u001b[0m\u001b[0;34m,\u001b[0m \u001b[0mflags\u001b[0m\u001b[0;34m=\u001b[0m\u001b[0;36m0\u001b[0m\u001b[0;34m)\u001b[0m\u001b[0;34m:\u001b[0m\u001b[0;34m\u001b[0m\u001b[0m\n",
      "\u001b[0;32m/usr/local/lib/python3.7/re.py\u001b[0m in \u001b[0;36m_compile\u001b[0;34m(pattern, flags)\u001b[0m\n\u001b[1;32m    284\u001b[0m     \u001b[0;32mif\u001b[0m \u001b[0;32mnot\u001b[0m \u001b[0msre_compile\u001b[0m\u001b[0;34m.\u001b[0m\u001b[0misstring\u001b[0m\u001b[0;34m(\u001b[0m\u001b[0mpattern\u001b[0m\u001b[0;34m)\u001b[0m\u001b[0;34m:\u001b[0m\u001b[0;34m\u001b[0m\u001b[0m\n\u001b[1;32m    285\u001b[0m         \u001b[0;32mraise\u001b[0m \u001b[0mTypeError\u001b[0m\u001b[0;34m(\u001b[0m\u001b[0;34m\"first argument must be string or compiled pattern\"\u001b[0m\u001b[0;34m)\u001b[0m\u001b[0;34m\u001b[0m\u001b[0m\n\u001b[0;32m--> 286\u001b[0;31m     \u001b[0mp\u001b[0m \u001b[0;34m=\u001b[0m \u001b[0msre_compile\u001b[0m\u001b[0;34m.\u001b[0m\u001b[0mcompile\u001b[0m\u001b[0;34m(\u001b[0m\u001b[0mpattern\u001b[0m\u001b[0;34m,\u001b[0m \u001b[0mflags\u001b[0m\u001b[0;34m)\u001b[0m\u001b[0;34m\u001b[0m\u001b[0m\n\u001b[0m\u001b[1;32m    287\u001b[0m     \u001b[0;32mif\u001b[0m \u001b[0;32mnot\u001b[0m \u001b[0;34m(\u001b[0m\u001b[0mflags\u001b[0m \u001b[0;34m&\u001b[0m \u001b[0mDEBUG\u001b[0m\u001b[0;34m)\u001b[0m\u001b[0;34m:\u001b[0m\u001b[0;34m\u001b[0m\u001b[0m\n\u001b[1;32m    288\u001b[0m         \u001b[0;32mif\u001b[0m \u001b[0mlen\u001b[0m\u001b[0;34m(\u001b[0m\u001b[0m_cache\u001b[0m\u001b[0;34m)\u001b[0m \u001b[0;34m>=\u001b[0m \u001b[0m_MAXCACHE\u001b[0m\u001b[0;34m:\u001b[0m\u001b[0;34m\u001b[0m\u001b[0m\n",
      "\u001b[0;32m/usr/local/lib/python3.7/sre_compile.py\u001b[0m in \u001b[0;36mcompile\u001b[0;34m(p, flags)\u001b[0m\n\u001b[1;32m    766\u001b[0m         \u001b[0mpattern\u001b[0m \u001b[0;34m=\u001b[0m \u001b[0;32mNone\u001b[0m\u001b[0;34m\u001b[0m\u001b[0m\n\u001b[1;32m    767\u001b[0m \u001b[0;34m\u001b[0m\u001b[0m\n\u001b[0;32m--> 768\u001b[0;31m     \u001b[0mcode\u001b[0m \u001b[0;34m=\u001b[0m \u001b[0m_code\u001b[0m\u001b[0;34m(\u001b[0m\u001b[0mp\u001b[0m\u001b[0;34m,\u001b[0m \u001b[0mflags\u001b[0m\u001b[0;34m)\u001b[0m\u001b[0;34m\u001b[0m\u001b[0m\n\u001b[0m\u001b[1;32m    769\u001b[0m \u001b[0;34m\u001b[0m\u001b[0m\n\u001b[1;32m    770\u001b[0m     \u001b[0;32mif\u001b[0m \u001b[0mflags\u001b[0m \u001b[0;34m&\u001b[0m \u001b[0mSRE_FLAG_DEBUG\u001b[0m\u001b[0;34m:\u001b[0m\u001b[0;34m\u001b[0m\u001b[0m\n",
      "\u001b[0;32m/usr/local/lib/python3.7/sre_compile.py\u001b[0m in \u001b[0;36m_code\u001b[0;34m(p, flags)\u001b[0m\n\u001b[1;32m    602\u001b[0m \u001b[0;34m\u001b[0m\u001b[0m\n\u001b[1;32m    603\u001b[0m     \u001b[0;31m# compile info block\u001b[0m\u001b[0;34m\u001b[0m\u001b[0;34m\u001b[0m\u001b[0m\n\u001b[0;32m--> 604\u001b[0;31m     \u001b[0m_compile_info\u001b[0m\u001b[0;34m(\u001b[0m\u001b[0mcode\u001b[0m\u001b[0;34m,\u001b[0m \u001b[0mp\u001b[0m\u001b[0;34m,\u001b[0m \u001b[0mflags\u001b[0m\u001b[0;34m)\u001b[0m\u001b[0;34m\u001b[0m\u001b[0m\n\u001b[0m\u001b[1;32m    605\u001b[0m \u001b[0;34m\u001b[0m\u001b[0m\n\u001b[1;32m    606\u001b[0m     \u001b[0;31m# compile the pattern\u001b[0m\u001b[0;34m\u001b[0m\u001b[0;34m\u001b[0m\u001b[0m\n",
      "\u001b[0;32m/usr/local/lib/python3.7/sre_compile.py\u001b[0m in \u001b[0;36m_compile_info\u001b[0;34m(code, pattern, flags)\u001b[0m\n\u001b[1;32m    538\u001b[0m     \u001b[0;31m# this contains min/max pattern width, and an optional literal\u001b[0m\u001b[0;34m\u001b[0m\u001b[0;34m\u001b[0m\u001b[0m\n\u001b[1;32m    539\u001b[0m     \u001b[0;31m# prefix or a character map\u001b[0m\u001b[0;34m\u001b[0m\u001b[0;34m\u001b[0m\u001b[0m\n\u001b[0;32m--> 540\u001b[0;31m     \u001b[0mlo\u001b[0m\u001b[0;34m,\u001b[0m \u001b[0mhi\u001b[0m \u001b[0;34m=\u001b[0m \u001b[0mpattern\u001b[0m\u001b[0;34m.\u001b[0m\u001b[0mgetwidth\u001b[0m\u001b[0;34m(\u001b[0m\u001b[0;34m)\u001b[0m\u001b[0;34m\u001b[0m\u001b[0m\n\u001b[0m\u001b[1;32m    541\u001b[0m     \u001b[0;32mif\u001b[0m \u001b[0mhi\u001b[0m \u001b[0;34m>\u001b[0m \u001b[0mMAXCODE\u001b[0m\u001b[0;34m:\u001b[0m\u001b[0;34m\u001b[0m\u001b[0m\n\u001b[1;32m    542\u001b[0m         \u001b[0mhi\u001b[0m \u001b[0;34m=\u001b[0m \u001b[0mMAXCODE\u001b[0m\u001b[0;34m\u001b[0m\u001b[0m\n",
      "\u001b[0;32m/usr/local/lib/python3.7/sre_parse.py\u001b[0m in \u001b[0;36mgetwidth\u001b[0;34m(self)\u001b[0m\n\u001b[1;32m    196\u001b[0m                 \u001b[0mhi\u001b[0m \u001b[0;34m=\u001b[0m \u001b[0mhi\u001b[0m \u001b[0;34m+\u001b[0m \u001b[0mj\u001b[0m\u001b[0;34m\u001b[0m\u001b[0m\n\u001b[1;32m    197\u001b[0m             \u001b[0;32melif\u001b[0m \u001b[0mop\u001b[0m \u001b[0;32min\u001b[0m \u001b[0m_REPEATCODES\u001b[0m\u001b[0;34m:\u001b[0m\u001b[0;34m\u001b[0m\u001b[0m\n\u001b[0;32m--> 198\u001b[0;31m                 \u001b[0mi\u001b[0m\u001b[0;34m,\u001b[0m \u001b[0mj\u001b[0m \u001b[0;34m=\u001b[0m \u001b[0mav\u001b[0m\u001b[0;34m[\u001b[0m\u001b[0;36m2\u001b[0m\u001b[0;34m]\u001b[0m\u001b[0;34m.\u001b[0m\u001b[0mgetwidth\u001b[0m\u001b[0;34m(\u001b[0m\u001b[0;34m)\u001b[0m\u001b[0;34m\u001b[0m\u001b[0m\n\u001b[0m\u001b[1;32m    199\u001b[0m                 \u001b[0mlo\u001b[0m \u001b[0;34m=\u001b[0m \u001b[0mlo\u001b[0m \u001b[0;34m+\u001b[0m \u001b[0mi\u001b[0m \u001b[0;34m*\u001b[0m \u001b[0mav\u001b[0m\u001b[0;34m[\u001b[0m\u001b[0;36m0\u001b[0m\u001b[0;34m]\u001b[0m\u001b[0;34m\u001b[0m\u001b[0m\n\u001b[1;32m    200\u001b[0m                 \u001b[0mhi\u001b[0m \u001b[0;34m=\u001b[0m \u001b[0mhi\u001b[0m \u001b[0;34m+\u001b[0m \u001b[0mj\u001b[0m \u001b[0;34m*\u001b[0m \u001b[0mav\u001b[0m\u001b[0;34m[\u001b[0m\u001b[0;36m1\u001b[0m\u001b[0;34m]\u001b[0m\u001b[0;34m\u001b[0m\u001b[0m\n",
      "\u001b[0;32m/usr/local/lib/python3.7/sre_parse.py\u001b[0m in \u001b[0;36mgetwidth\u001b[0;34m(self)\u001b[0m\n\u001b[1;32m    195\u001b[0m                 \u001b[0mlo\u001b[0m \u001b[0;34m=\u001b[0m \u001b[0mlo\u001b[0m \u001b[0;34m+\u001b[0m \u001b[0mi\u001b[0m\u001b[0;34m\u001b[0m\u001b[0m\n\u001b[1;32m    196\u001b[0m                 \u001b[0mhi\u001b[0m \u001b[0;34m=\u001b[0m \u001b[0mhi\u001b[0m \u001b[0;34m+\u001b[0m \u001b[0mj\u001b[0m\u001b[0;34m\u001b[0m\u001b[0m\n\u001b[0;32m--> 197\u001b[0;31m             \u001b[0;32melif\u001b[0m \u001b[0mop\u001b[0m \u001b[0;32min\u001b[0m \u001b[0m_REPEATCODES\u001b[0m\u001b[0;34m:\u001b[0m\u001b[0;34m\u001b[0m\u001b[0m\n\u001b[0m\u001b[1;32m    198\u001b[0m                 \u001b[0mi\u001b[0m\u001b[0;34m,\u001b[0m \u001b[0mj\u001b[0m \u001b[0;34m=\u001b[0m \u001b[0mav\u001b[0m\u001b[0;34m[\u001b[0m\u001b[0;36m2\u001b[0m\u001b[0;34m]\u001b[0m\u001b[0;34m.\u001b[0m\u001b[0mgetwidth\u001b[0m\u001b[0;34m(\u001b[0m\u001b[0;34m)\u001b[0m\u001b[0;34m\u001b[0m\u001b[0m\n\u001b[1;32m    199\u001b[0m                 \u001b[0mlo\u001b[0m \u001b[0;34m=\u001b[0m \u001b[0mlo\u001b[0m \u001b[0;34m+\u001b[0m \u001b[0mi\u001b[0m \u001b[0;34m*\u001b[0m \u001b[0mav\u001b[0m\u001b[0;34m[\u001b[0m\u001b[0;36m0\u001b[0m\u001b[0;34m]\u001b[0m\u001b[0;34m\u001b[0m\u001b[0m\n",
      "\u001b[0;31mKeyboardInterrupt\u001b[0m: "
     ]
    }
   ],
   "source": [
    "kNodes = 0\n",
    "for i in range(0, 7):\n",
    "    initialNodes = im_g_lt(graph5, 5 + kNodes, 3)\n",
    "    prop_lt(graph5, initialNodes)\n",
    "    print(\"IM with k = %d nodes \\n\" % (kNodes + 5))\n",
    "    print(\"--------------------\")\n",
    "    kNodes += 5"
   ]
  },
  {
   "cell_type": "markdown",
   "metadata": {},
   "source": [
    "Freshness functions: exponential, polynomial or piecewise linear."
   ]
  },
  {
   "cell_type": "markdown",
   "metadata": {},
   "source": [
    "In the approximate algorithms we look at which nodes to pick that will give use the best solution. Whereas in the greedy it does not matter, however on average the hill climbing strategy is 63% better. For example, if we select nodes with the highest degree, we will always look to add nodes with the highest degree."
   ]
  },
  {
   "cell_type": "code",
   "execution_count": null,
   "metadata": {},
   "outputs": [],
   "source": [
    "def im_a_lt(g, k)"
   ]
  },
  {
   "cell_type": "markdown",
   "metadata": {},
   "source": [
    "## Delayed Independend Cascade"
   ]
  },
  {
   "cell_type": "code",
   "execution_count": null,
   "metadata": {},
   "outputs": [],
   "source": []
  }
 ],
 "metadata": {
  "kernelspec": {
   "display_name": "Python 3",
   "language": "python",
   "name": "python3"
  },
  "language_info": {
   "codemirror_mode": {
    "name": "ipython",
    "version": 3
   },
   "file_extension": ".py",
   "mimetype": "text/x-python",
   "name": "python",
   "nbconvert_exporter": "python",
   "pygments_lexer": "ipython3",
   "version": "3.7.0"
  }
 },
 "nbformat": 4,
 "nbformat_minor": 4
}
